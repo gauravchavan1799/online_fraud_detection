{
 "cells": [
  {
   "cell_type": "code",
   "execution_count": 68,
   "id": "11e8ab60",
   "metadata": {},
   "outputs": [],
   "source": [
    "import pandas as pd\n",
    "import numpy as np\n",
    "\n",
    "from sklearn.model_selection import train_test_split\n",
    "from sklearn.linear_model import LogisticRegression\n",
    "from sklearn.metrics import accuracy_score, classification_report,confusion_matrix\n",
    "from sklearn.metrics import roc_auc_score, roc_curve\n",
    "import matplotlib.pyplot as plt\n",
    "import seaborn as sns\n",
    "from sklearn.metrics import mean_absolute_error, mean_squared_error, r2_score\n",
    "import plotly.express as px\n",
    "\n",
    "import pickle\n",
    "import json\n",
    "\n",
    "import warnings\n",
    "warnings.filterwarnings('ignore')"
   ]
  },
  {
   "cell_type": "code",
   "execution_count": 69,
   "id": "730fc7f5",
   "metadata": {
    "scrolled": false
   },
   "outputs": [
    {
     "data": {
      "text/html": [
       "<div>\n",
       "<style scoped>\n",
       "    .dataframe tbody tr th:only-of-type {\n",
       "        vertical-align: middle;\n",
       "    }\n",
       "\n",
       "    .dataframe tbody tr th {\n",
       "        vertical-align: top;\n",
       "    }\n",
       "\n",
       "    .dataframe thead th {\n",
       "        text-align: right;\n",
       "    }\n",
       "</style>\n",
       "<table border=\"1\" class=\"dataframe\">\n",
       "  <thead>\n",
       "    <tr style=\"text-align: right;\">\n",
       "      <th></th>\n",
       "      <th>step</th>\n",
       "      <th>type</th>\n",
       "      <th>amount</th>\n",
       "      <th>nameOrig</th>\n",
       "      <th>oldbalanceOrg</th>\n",
       "      <th>newbalanceOrig</th>\n",
       "      <th>nameDest</th>\n",
       "      <th>oldbalanceDest</th>\n",
       "      <th>newbalanceDest</th>\n",
       "      <th>isFraud</th>\n",
       "    </tr>\n",
       "  </thead>\n",
       "  <tbody>\n",
       "    <tr>\n",
       "      <th>0</th>\n",
       "      <td>1</td>\n",
       "      <td>PAYMENT</td>\n",
       "      <td>9839.64</td>\n",
       "      <td>C1231006815</td>\n",
       "      <td>170136.0</td>\n",
       "      <td>160296.36</td>\n",
       "      <td>M1979787155</td>\n",
       "      <td>0.00</td>\n",
       "      <td>0.00</td>\n",
       "      <td>0</td>\n",
       "    </tr>\n",
       "    <tr>\n",
       "      <th>1</th>\n",
       "      <td>1</td>\n",
       "      <td>PAYMENT</td>\n",
       "      <td>1864.28</td>\n",
       "      <td>C1666544295</td>\n",
       "      <td>21249.0</td>\n",
       "      <td>19384.72</td>\n",
       "      <td>M2044282225</td>\n",
       "      <td>0.00</td>\n",
       "      <td>0.00</td>\n",
       "      <td>0</td>\n",
       "    </tr>\n",
       "    <tr>\n",
       "      <th>2</th>\n",
       "      <td>1</td>\n",
       "      <td>TRANSFER</td>\n",
       "      <td>181.00</td>\n",
       "      <td>C1305486145</td>\n",
       "      <td>181.0</td>\n",
       "      <td>0.00</td>\n",
       "      <td>C553264065</td>\n",
       "      <td>0.00</td>\n",
       "      <td>0.00</td>\n",
       "      <td>1</td>\n",
       "    </tr>\n",
       "    <tr>\n",
       "      <th>3</th>\n",
       "      <td>1</td>\n",
       "      <td>CASH_OUT</td>\n",
       "      <td>181.00</td>\n",
       "      <td>C840083671</td>\n",
       "      <td>181.0</td>\n",
       "      <td>0.00</td>\n",
       "      <td>C38997010</td>\n",
       "      <td>21182.00</td>\n",
       "      <td>0.00</td>\n",
       "      <td>1</td>\n",
       "    </tr>\n",
       "    <tr>\n",
       "      <th>4</th>\n",
       "      <td>1</td>\n",
       "      <td>PAYMENT</td>\n",
       "      <td>11668.14</td>\n",
       "      <td>C2048537720</td>\n",
       "      <td>41554.0</td>\n",
       "      <td>29885.86</td>\n",
       "      <td>M1230701703</td>\n",
       "      <td>0.00</td>\n",
       "      <td>0.00</td>\n",
       "      <td>0</td>\n",
       "    </tr>\n",
       "    <tr>\n",
       "      <th>...</th>\n",
       "      <td>...</td>\n",
       "      <td>...</td>\n",
       "      <td>...</td>\n",
       "      <td>...</td>\n",
       "      <td>...</td>\n",
       "      <td>...</td>\n",
       "      <td>...</td>\n",
       "      <td>...</td>\n",
       "      <td>...</td>\n",
       "      <td>...</td>\n",
       "    </tr>\n",
       "    <tr>\n",
       "      <th>499995</th>\n",
       "      <td>20</td>\n",
       "      <td>CASH_OUT</td>\n",
       "      <td>77616.32</td>\n",
       "      <td>C1125584113</td>\n",
       "      <td>402794.6</td>\n",
       "      <td>325178.28</td>\n",
       "      <td>C596605403</td>\n",
       "      <td>662541.78</td>\n",
       "      <td>410073.66</td>\n",
       "      <td>0</td>\n",
       "    </tr>\n",
       "    <tr>\n",
       "      <th>499996</th>\n",
       "      <td>20</td>\n",
       "      <td>CASH_OUT</td>\n",
       "      <td>63262.20</td>\n",
       "      <td>C1632642338</td>\n",
       "      <td>8500.0</td>\n",
       "      <td>0.00</td>\n",
       "      <td>C1989325178</td>\n",
       "      <td>0.00</td>\n",
       "      <td>63262.20</td>\n",
       "      <td>0</td>\n",
       "    </tr>\n",
       "    <tr>\n",
       "      <th>499997</th>\n",
       "      <td>20</td>\n",
       "      <td>PAYMENT</td>\n",
       "      <td>15019.29</td>\n",
       "      <td>C2105678886</td>\n",
       "      <td>5253.0</td>\n",
       "      <td>0.00</td>\n",
       "      <td>M171574465</td>\n",
       "      <td>0.00</td>\n",
       "      <td>0.00</td>\n",
       "      <td>0</td>\n",
       "    </tr>\n",
       "    <tr>\n",
       "      <th>499998</th>\n",
       "      <td>20</td>\n",
       "      <td>TRANSFER</td>\n",
       "      <td>355628.70</td>\n",
       "      <td>C1907483123</td>\n",
       "      <td>0.0</td>\n",
       "      <td>0.00</td>\n",
       "      <td>C1880058411</td>\n",
       "      <td>6533824.07</td>\n",
       "      <td>6889452.78</td>\n",
       "      <td>0</td>\n",
       "    </tr>\n",
       "    <tr>\n",
       "      <th>499999</th>\n",
       "      <td>20</td>\n",
       "      <td>TRANSFER</td>\n",
       "      <td>70926.24</td>\n",
       "      <td>C296264658</td>\n",
       "      <td>0.0</td>\n",
       "      <td>0.00</td>\n",
       "      <td>C1038100083</td>\n",
       "      <td>111518.78</td>\n",
       "      <td>182445.01</td>\n",
       "      <td>0</td>\n",
       "    </tr>\n",
       "  </tbody>\n",
       "</table>\n",
       "<p>500000 rows × 10 columns</p>\n",
       "</div>"
      ],
      "text/plain": [
       "        step      type     amount     nameOrig  oldbalanceOrg  newbalanceOrig  \\\n",
       "0          1   PAYMENT    9839.64  C1231006815       170136.0       160296.36   \n",
       "1          1   PAYMENT    1864.28  C1666544295        21249.0        19384.72   \n",
       "2          1  TRANSFER     181.00  C1305486145          181.0            0.00   \n",
       "3          1  CASH_OUT     181.00   C840083671          181.0            0.00   \n",
       "4          1   PAYMENT   11668.14  C2048537720        41554.0        29885.86   \n",
       "...      ...       ...        ...          ...            ...             ...   \n",
       "499995    20  CASH_OUT   77616.32  C1125584113       402794.6       325178.28   \n",
       "499996    20  CASH_OUT   63262.20  C1632642338         8500.0            0.00   \n",
       "499997    20   PAYMENT   15019.29  C2105678886         5253.0            0.00   \n",
       "499998    20  TRANSFER  355628.70  C1907483123            0.0            0.00   \n",
       "499999    20  TRANSFER   70926.24   C296264658            0.0            0.00   \n",
       "\n",
       "           nameDest  oldbalanceDest  newbalanceDest  isFraud  \n",
       "0       M1979787155            0.00            0.00        0  \n",
       "1       M2044282225            0.00            0.00        0  \n",
       "2        C553264065            0.00            0.00        1  \n",
       "3         C38997010        21182.00            0.00        1  \n",
       "4       M1230701703            0.00            0.00        0  \n",
       "...             ...             ...             ...      ...  \n",
       "499995   C596605403       662541.78       410073.66        0  \n",
       "499996  C1989325178            0.00        63262.20        0  \n",
       "499997   M171574465            0.00            0.00        0  \n",
       "499998  C1880058411      6533824.07      6889452.78        0  \n",
       "499999  C1038100083       111518.78       182445.01        0  \n",
       "\n",
       "[500000 rows x 10 columns]"
      ]
     },
     "execution_count": 69,
     "metadata": {},
     "output_type": "execute_result"
    }
   ],
   "source": [
    "df=pd.read_csv(r'C:\\data science\\own_project\\Online Fraud Detection (ML)\\static\\csv_files\\fraud_detection.csv')\n",
    "df"
   ]
  },
  {
   "cell_type": "code",
   "execution_count": 70,
   "id": "29709bf8",
   "metadata": {
    "scrolled": true
   },
   "outputs": [
    {
     "data": {
      "text/plain": [
       "Index(['step', 'type', 'amount', 'nameOrig', 'oldbalanceOrg', 'newbalanceOrig',\n",
       "       'nameDest', 'oldbalanceDest', 'newbalanceDest', 'isFraud'],\n",
       "      dtype='object')"
      ]
     },
     "execution_count": 70,
     "metadata": {},
     "output_type": "execute_result"
    }
   ],
   "source": [
    "df.columns"
   ]
  },
  {
   "cell_type": "code",
   "execution_count": 71,
   "id": "69aaaa72",
   "metadata": {},
   "outputs": [],
   "source": [
    "df.rename(columns={'type': 'types'}, inplace=True)"
   ]
  },
  {
   "cell_type": "code",
   "execution_count": 72,
   "id": "bbad2eb1",
   "metadata": {
    "scrolled": true
   },
   "outputs": [
    {
     "data": {
      "text/plain": [
       "[RangeIndex(start=0, stop=500000, step=1),\n",
       " Index(['step', 'types', 'amount', 'nameOrig', 'oldbalanceOrg',\n",
       "        'newbalanceOrig', 'nameDest', 'oldbalanceDest', 'newbalanceDest',\n",
       "        'isFraud'],\n",
       "       dtype='object')]"
      ]
     },
     "execution_count": 72,
     "metadata": {},
     "output_type": "execute_result"
    }
   ],
   "source": [
    "df.axes"
   ]
  },
  {
   "cell_type": "code",
   "execution_count": 73,
   "id": "2ae7a6c6",
   "metadata": {
    "scrolled": false
   },
   "outputs": [
    {
     "name": "stdout",
     "output_type": "stream",
     "text": [
      "<class 'pandas.core.frame.DataFrame'>\n",
      "RangeIndex: 500000 entries, 0 to 499999\n",
      "Data columns (total 10 columns):\n",
      " #   Column          Non-Null Count   Dtype  \n",
      "---  ------          --------------   -----  \n",
      " 0   step            500000 non-null  int64  \n",
      " 1   types           500000 non-null  object \n",
      " 2   amount          500000 non-null  float64\n",
      " 3   nameOrig        500000 non-null  object \n",
      " 4   oldbalanceOrg   500000 non-null  float64\n",
      " 5   newbalanceOrig  500000 non-null  float64\n",
      " 6   nameDest        500000 non-null  object \n",
      " 7   oldbalanceDest  500000 non-null  float64\n",
      " 8   newbalanceDest  500000 non-null  float64\n",
      " 9   isFraud         500000 non-null  int64  \n",
      "dtypes: float64(5), int64(2), object(3)\n",
      "memory usage: 38.1+ MB\n"
     ]
    }
   ],
   "source": [
    "df.info()"
   ]
  },
  {
   "cell_type": "code",
   "execution_count": 74,
   "id": "3db8f123",
   "metadata": {},
   "outputs": [
    {
     "data": {
      "text/plain": [
       "(500000, 10)"
      ]
     },
     "execution_count": 74,
     "metadata": {},
     "output_type": "execute_result"
    }
   ],
   "source": [
    "df.shape"
   ]
  },
  {
   "cell_type": "code",
   "execution_count": 75,
   "id": "3928f2e7",
   "metadata": {},
   "outputs": [
    {
     "data": {
      "text/html": [
       "<div>\n",
       "<style scoped>\n",
       "    .dataframe tbody tr th:only-of-type {\n",
       "        vertical-align: middle;\n",
       "    }\n",
       "\n",
       "    .dataframe tbody tr th {\n",
       "        vertical-align: top;\n",
       "    }\n",
       "\n",
       "    .dataframe thead th {\n",
       "        text-align: right;\n",
       "    }\n",
       "</style>\n",
       "<table border=\"1\" class=\"dataframe\">\n",
       "  <thead>\n",
       "    <tr style=\"text-align: right;\">\n",
       "      <th></th>\n",
       "      <th>step</th>\n",
       "      <th>amount</th>\n",
       "      <th>oldbalanceOrg</th>\n",
       "      <th>newbalanceOrig</th>\n",
       "      <th>oldbalanceDest</th>\n",
       "      <th>newbalanceDest</th>\n",
       "      <th>isFraud</th>\n",
       "    </tr>\n",
       "  </thead>\n",
       "  <tbody>\n",
       "    <tr>\n",
       "      <th>count</th>\n",
       "      <td>500000</td>\n",
       "      <td>500000</td>\n",
       "      <td>500000</td>\n",
       "      <td>500000</td>\n",
       "      <td>500000</td>\n",
       "      <td>500000</td>\n",
       "      <td>500000</td>\n",
       "    </tr>\n",
       "    <tr>\n",
       "      <th>mean</th>\n",
       "      <td>13</td>\n",
       "      <td>166393</td>\n",
       "      <td>911692</td>\n",
       "      <td>931426</td>\n",
       "      <td>982773</td>\n",
       "      <td>1162668</td>\n",
       "      <td>0</td>\n",
       "    </tr>\n",
       "    <tr>\n",
       "      <th>std</th>\n",
       "      <td>3</td>\n",
       "      <td>272584</td>\n",
       "      <td>3016900</td>\n",
       "      <td>3054014</td>\n",
       "      <td>2336426</td>\n",
       "      <td>2510610</td>\n",
       "      <td>0</td>\n",
       "    </tr>\n",
       "    <tr>\n",
       "      <th>min</th>\n",
       "      <td>1</td>\n",
       "      <td>0</td>\n",
       "      <td>0</td>\n",
       "      <td>0</td>\n",
       "      <td>0</td>\n",
       "      <td>0</td>\n",
       "      <td>0</td>\n",
       "    </tr>\n",
       "    <tr>\n",
       "      <th>25%</th>\n",
       "      <td>11</td>\n",
       "      <td>13350</td>\n",
       "      <td>0</td>\n",
       "      <td>0</td>\n",
       "      <td>0</td>\n",
       "      <td>0</td>\n",
       "      <td>0</td>\n",
       "    </tr>\n",
       "    <tr>\n",
       "      <th>50%</th>\n",
       "      <td>14</td>\n",
       "      <td>81375</td>\n",
       "      <td>18569</td>\n",
       "      <td>0</td>\n",
       "      <td>119271</td>\n",
       "      <td>222144</td>\n",
       "      <td>0</td>\n",
       "    </tr>\n",
       "    <tr>\n",
       "      <th>75%</th>\n",
       "      <td>17</td>\n",
       "      <td>222644</td>\n",
       "      <td>170294</td>\n",
       "      <td>210171</td>\n",
       "      <td>896226</td>\n",
       "      <td>1201403</td>\n",
       "      <td>0</td>\n",
       "    </tr>\n",
       "    <tr>\n",
       "      <th>max</th>\n",
       "      <td>20</td>\n",
       "      <td>10000000</td>\n",
       "      <td>38939424</td>\n",
       "      <td>38946233</td>\n",
       "      <td>41482697</td>\n",
       "      <td>41482697</td>\n",
       "      <td>1</td>\n",
       "    </tr>\n",
       "  </tbody>\n",
       "</table>\n",
       "</div>"
      ],
      "text/plain": [
       "         step    amount  oldbalanceOrg  newbalanceOrig  oldbalanceDest  \\\n",
       "count  500000    500000         500000          500000          500000   \n",
       "mean       13    166393         911692          931426          982773   \n",
       "std         3    272584        3016900         3054014         2336426   \n",
       "min         1         0              0               0               0   \n",
       "25%        11     13350              0               0               0   \n",
       "50%        14     81375          18569               0          119271   \n",
       "75%        17    222644         170294          210171          896226   \n",
       "max        20  10000000       38939424        38946233        41482697   \n",
       "\n",
       "       newbalanceDest  isFraud  \n",
       "count          500000   500000  \n",
       "mean          1162668        0  \n",
       "std           2510610        0  \n",
       "min                 0        0  \n",
       "25%                 0        0  \n",
       "50%            222144        0  \n",
       "75%           1201403        0  \n",
       "max          41482697        1  "
      ]
     },
     "execution_count": 75,
     "metadata": {},
     "output_type": "execute_result"
    }
   ],
   "source": [
    "df.describe().astype(int)"
   ]
  },
  {
   "cell_type": "code",
   "execution_count": 76,
   "id": "b7c71b52",
   "metadata": {
    "scrolled": false
   },
   "outputs": [
    {
     "data": {
      "text/plain": [
       "step              0\n",
       "types             0\n",
       "amount            0\n",
       "nameOrig          0\n",
       "oldbalanceOrg     0\n",
       "newbalanceOrig    0\n",
       "nameDest          0\n",
       "oldbalanceDest    0\n",
       "newbalanceDest    0\n",
       "isFraud           0\n",
       "dtype: int64"
      ]
     },
     "execution_count": 76,
     "metadata": {},
     "output_type": "execute_result"
    }
   ],
   "source": [
    "df.isnull().sum()"
   ]
  },
  {
   "cell_type": "code",
   "execution_count": 77,
   "id": "3a9e0105",
   "metadata": {},
   "outputs": [
    {
     "data": {
      "text/plain": [
       "Text(0, 0.5, 'count of online transaction type ')"
      ]
     },
     "execution_count": 77,
     "metadata": {},
     "output_type": "execute_result"
    },
    {
     "data": {
      "image/png": "[encoded data removed]",
      "text/plain": [
       "<Figure size 1000x500 with 1 Axes>"
      ]
     },
     "metadata": {},
     "output_type": "display_data"
    }
   ],
   "source": [
    "plt.figure(figsize=(10,5))\n",
    "sns.countplot (x=\"types\", data= df)\n",
    "plt.title (\"Visualizing type of online transaction\")\n",
    "plt.xlabel(\"Type of online transaction\")\n",
    "plt.ylabel(\"count of online transaction type \")"
   ]
  },
  {
   "cell_type": "code",
   "execution_count": null,
   "id": "bb52473e",
   "metadata": {},
   "outputs": [],
   "source": []
  },
  {
   "cell_type": "markdown",
   "id": "a26d87c8",
   "metadata": {},
   "source": [
    "## EDA"
   ]
  },
  {
   "cell_type": "code",
   "execution_count": 78,
   "id": "46cd9e62",
   "metadata": {
    "scrolled": true
   },
   "outputs": [
    {
     "data": {
      "text/plain": [
       "CASH_OUT    182316\n",
       "PAYMENT     164032\n",
       "CASH_IN     109319\n",
       "TRANSFER     40730\n",
       "DEBIT         3603\n",
       "Name: types, dtype: int64"
      ]
     },
     "execution_count": 78,
     "metadata": {},
     "output_type": "execute_result"
    }
   ],
   "source": [
    "df['types'].value_counts()"
   ]
  },
  {
   "cell_type": "code",
   "execution_count": 79,
   "id": "b4012161",
   "metadata": {
    "scrolled": true
   },
   "outputs": [
    {
     "data": {
      "text/html": [
       "<div>\n",
       "<style scoped>\n",
       "    .dataframe tbody tr th:only-of-type {\n",
       "        vertical-align: middle;\n",
       "    }\n",
       "\n",
       "    .dataframe tbody tr th {\n",
       "        vertical-align: top;\n",
       "    }\n",
       "\n",
       "    .dataframe thead th {\n",
       "        text-align: right;\n",
       "    }\n",
       "</style>\n",
       "<table border=\"1\" class=\"dataframe\">\n",
       "  <thead>\n",
       "    <tr style=\"text-align: right;\">\n",
       "      <th></th>\n",
       "      <th>step</th>\n",
       "      <th>amount</th>\n",
       "      <th>nameOrig</th>\n",
       "      <th>oldbalanceOrg</th>\n",
       "      <th>newbalanceOrig</th>\n",
       "      <th>nameDest</th>\n",
       "      <th>oldbalanceDest</th>\n",
       "      <th>newbalanceDest</th>\n",
       "      <th>isFraud</th>\n",
       "      <th>types_CASH_IN</th>\n",
       "      <th>types_CASH_OUT</th>\n",
       "      <th>types_DEBIT</th>\n",
       "      <th>types_PAYMENT</th>\n",
       "      <th>types_TRANSFER</th>\n",
       "    </tr>\n",
       "  </thead>\n",
       "  <tbody>\n",
       "    <tr>\n",
       "      <th>0</th>\n",
       "      <td>1</td>\n",
       "      <td>9839.64</td>\n",
       "      <td>C1231006815</td>\n",
       "      <td>170136.0</td>\n",
       "      <td>160296.36</td>\n",
       "      <td>M1979787155</td>\n",
       "      <td>0.00</td>\n",
       "      <td>0.00</td>\n",
       "      <td>0</td>\n",
       "      <td>0</td>\n",
       "      <td>0</td>\n",
       "      <td>0</td>\n",
       "      <td>1</td>\n",
       "      <td>0</td>\n",
       "    </tr>\n",
       "    <tr>\n",
       "      <th>1</th>\n",
       "      <td>1</td>\n",
       "      <td>1864.28</td>\n",
       "      <td>C1666544295</td>\n",
       "      <td>21249.0</td>\n",
       "      <td>19384.72</td>\n",
       "      <td>M2044282225</td>\n",
       "      <td>0.00</td>\n",
       "      <td>0.00</td>\n",
       "      <td>0</td>\n",
       "      <td>0</td>\n",
       "      <td>0</td>\n",
       "      <td>0</td>\n",
       "      <td>1</td>\n",
       "      <td>0</td>\n",
       "    </tr>\n",
       "    <tr>\n",
       "      <th>2</th>\n",
       "      <td>1</td>\n",
       "      <td>181.00</td>\n",
       "      <td>C1305486145</td>\n",
       "      <td>181.0</td>\n",
       "      <td>0.00</td>\n",
       "      <td>C553264065</td>\n",
       "      <td>0.00</td>\n",
       "      <td>0.00</td>\n",
       "      <td>1</td>\n",
       "      <td>0</td>\n",
       "      <td>0</td>\n",
       "      <td>0</td>\n",
       "      <td>0</td>\n",
       "      <td>1</td>\n",
       "    </tr>\n",
       "    <tr>\n",
       "      <th>3</th>\n",
       "      <td>1</td>\n",
       "      <td>181.00</td>\n",
       "      <td>C840083671</td>\n",
       "      <td>181.0</td>\n",
       "      <td>0.00</td>\n",
       "      <td>C38997010</td>\n",
       "      <td>21182.00</td>\n",
       "      <td>0.00</td>\n",
       "      <td>1</td>\n",
       "      <td>0</td>\n",
       "      <td>1</td>\n",
       "      <td>0</td>\n",
       "      <td>0</td>\n",
       "      <td>0</td>\n",
       "    </tr>\n",
       "    <tr>\n",
       "      <th>4</th>\n",
       "      <td>1</td>\n",
       "      <td>11668.14</td>\n",
       "      <td>C2048537720</td>\n",
       "      <td>41554.0</td>\n",
       "      <td>29885.86</td>\n",
       "      <td>M1230701703</td>\n",
       "      <td>0.00</td>\n",
       "      <td>0.00</td>\n",
       "      <td>0</td>\n",
       "      <td>0</td>\n",
       "      <td>0</td>\n",
       "      <td>0</td>\n",
       "      <td>1</td>\n",
       "      <td>0</td>\n",
       "    </tr>\n",
       "    <tr>\n",
       "      <th>...</th>\n",
       "      <td>...</td>\n",
       "      <td>...</td>\n",
       "      <td>...</td>\n",
       "      <td>...</td>\n",
       "      <td>...</td>\n",
       "      <td>...</td>\n",
       "      <td>...</td>\n",
       "      <td>...</td>\n",
       "      <td>...</td>\n",
       "      <td>...</td>\n",
       "      <td>...</td>\n",
       "      <td>...</td>\n",
       "      <td>...</td>\n",
       "      <td>...</td>\n",
       "    </tr>\n",
       "    <tr>\n",
       "      <th>499995</th>\n",
       "      <td>20</td>\n",
       "      <td>77616.32</td>\n",
       "      <td>C1125584113</td>\n",
       "      <td>402794.6</td>\n",
       "      <td>325178.28</td>\n",
       "      <td>C596605403</td>\n",
       "      <td>662541.78</td>\n",
       "      <td>410073.66</td>\n",
       "      <td>0</td>\n",
       "      <td>0</td>\n",
       "      <td>1</td>\n",
       "      <td>0</td>\n",
       "      <td>0</td>\n",
       "      <td>0</td>\n",
       "    </tr>\n",
       "    <tr>\n",
       "      <th>499996</th>\n",
       "      <td>20</td>\n",
       "      <td>63262.20</td>\n",
       "      <td>C1632642338</td>\n",
       "      <td>8500.0</td>\n",
       "      <td>0.00</td>\n",
       "      <td>C1989325178</td>\n",
       "      <td>0.00</td>\n",
       "      <td>63262.20</td>\n",
       "      <td>0</td>\n",
       "      <td>0</td>\n",
       "      <td>1</td>\n",
       "      <td>0</td>\n",
       "      <td>0</td>\n",
       "      <td>0</td>\n",
       "    </tr>\n",
       "    <tr>\n",
       "      <th>499997</th>\n",
       "      <td>20</td>\n",
       "      <td>15019.29</td>\n",
       "      <td>C2105678886</td>\n",
       "      <td>5253.0</td>\n",
       "      <td>0.00</td>\n",
       "      <td>M171574465</td>\n",
       "      <td>0.00</td>\n",
       "      <td>0.00</td>\n",
       "      <td>0</td>\n",
       "      <td>0</td>\n",
       "      <td>0</td>\n",
       "      <td>0</td>\n",
       "      <td>1</td>\n",
       "      <td>0</td>\n",
       "    </tr>\n",
       "    <tr>\n",
       "      <th>499998</th>\n",
       "      <td>20</td>\n",
       "      <td>355628.70</td>\n",
       "      <td>C1907483123</td>\n",
       "      <td>0.0</td>\n",
       "      <td>0.00</td>\n",
       "      <td>C1880058411</td>\n",
       "      <td>6533824.07</td>\n",
       "      <td>6889452.78</td>\n",
       "      <td>0</td>\n",
       "      <td>0</td>\n",
       "      <td>0</td>\n",
       "      <td>0</td>\n",
       "      <td>0</td>\n",
       "      <td>1</td>\n",
       "    </tr>\n",
       "    <tr>\n",
       "      <th>499999</th>\n",
       "      <td>20</td>\n",
       "      <td>70926.24</td>\n",
       "      <td>C296264658</td>\n",
       "      <td>0.0</td>\n",
       "      <td>0.00</td>\n",
       "      <td>C1038100083</td>\n",
       "      <td>111518.78</td>\n",
       "      <td>182445.01</td>\n",
       "      <td>0</td>\n",
       "      <td>0</td>\n",
       "      <td>0</td>\n",
       "      <td>0</td>\n",
       "      <td>0</td>\n",
       "      <td>1</td>\n",
       "    </tr>\n",
       "  </tbody>\n",
       "</table>\n",
       "<p>500000 rows × 14 columns</p>\n",
       "</div>"
      ],
      "text/plain": [
       "        step     amount     nameOrig  oldbalanceOrg  newbalanceOrig  \\\n",
       "0          1    9839.64  C1231006815       170136.0       160296.36   \n",
       "1          1    1864.28  C1666544295        21249.0        19384.72   \n",
       "2          1     181.00  C1305486145          181.0            0.00   \n",
       "3          1     181.00   C840083671          181.0            0.00   \n",
       "4          1   11668.14  C2048537720        41554.0        29885.86   \n",
       "...      ...        ...          ...            ...             ...   \n",
       "499995    20   77616.32  C1125584113       402794.6       325178.28   \n",
       "499996    20   63262.20  C1632642338         8500.0            0.00   \n",
       "499997    20   15019.29  C2105678886         5253.0            0.00   \n",
       "499998    20  355628.70  C1907483123            0.0            0.00   \n",
       "499999    20   70926.24   C296264658            0.0            0.00   \n",
       "\n",
       "           nameDest  oldbalanceDest  newbalanceDest  isFraud  types_CASH_IN  \\\n",
       "0       M1979787155            0.00            0.00        0              0   \n",
       "1       M2044282225            0.00            0.00        0              0   \n",
       "2        C553264065            0.00            0.00        1              0   \n",
       "3         C38997010        21182.00            0.00        1              0   \n",
       "4       M1230701703            0.00            0.00        0              0   \n",
       "...             ...             ...             ...      ...            ...   \n",
       "499995   C596605403       662541.78       410073.66        0              0   \n",
       "499996  C1989325178            0.00        63262.20        0              0   \n",
       "499997   M171574465            0.00            0.00        0              0   \n",
       "499998  C1880058411      6533824.07      6889452.78        0              0   \n",
       "499999  C1038100083       111518.78       182445.01        0              0   \n",
       "\n",
       "        types_CASH_OUT  types_DEBIT  types_PAYMENT  types_TRANSFER  \n",
       "0                    0            0              1               0  \n",
       "1                    0            0              1               0  \n",
       "2                    0            0              0               1  \n",
       "3                    1            0              0               0  \n",
       "4                    0            0              1               0  \n",
       "...                ...          ...            ...             ...  \n",
       "499995               1            0              0               0  \n",
       "499996               1            0              0               0  \n",
       "499997               0            0              1               0  \n",
       "499998               0            0              0               1  \n",
       "499999               0            0              0               1  \n",
       "\n",
       "[500000 rows x 14 columns]"
      ]
     },
     "execution_count": 79,
     "metadata": {},
     "output_type": "execute_result"
    }
   ],
   "source": [
    "df=pd.get_dummies(df,columns=['types'])\n",
    "df"
   ]
  },
  {
   "cell_type": "code",
   "execution_count": 80,
   "id": "d0327eba",
   "metadata": {
    "scrolled": true
   },
   "outputs": [
    {
     "name": "stdout",
     "output_type": "stream",
     "text": [
      "<class 'pandas.core.frame.DataFrame'>\n",
      "RangeIndex: 500000 entries, 0 to 499999\n",
      "Data columns (total 14 columns):\n",
      " #   Column          Non-Null Count   Dtype  \n",
      "---  ------          --------------   -----  \n",
      " 0   step            500000 non-null  int64  \n",
      " 1   amount          500000 non-null  float64\n",
      " 2   nameOrig        500000 non-null  object \n",
      " 3   oldbalanceOrg   500000 non-null  float64\n",
      " 4   newbalanceOrig  500000 non-null  float64\n",
      " 5   nameDest        500000 non-null  object \n",
      " 6   oldbalanceDest  500000 non-null  float64\n",
      " 7   newbalanceDest  500000 non-null  float64\n",
      " 8   isFraud         500000 non-null  int64  \n",
      " 9   types_CASH_IN   500000 non-null  uint8  \n",
      " 10  types_CASH_OUT  500000 non-null  uint8  \n",
      " 11  types_DEBIT     500000 non-null  uint8  \n",
      " 12  types_PAYMENT   500000 non-null  uint8  \n",
      " 13  types_TRANSFER  500000 non-null  uint8  \n",
      "dtypes: float64(5), int64(2), object(2), uint8(5)\n",
      "memory usage: 36.7+ MB\n"
     ]
    }
   ],
   "source": [
    "df.info()"
   ]
  },
  {
   "cell_type": "code",
   "execution_count": 81,
   "id": "e9577804",
   "metadata": {
    "scrolled": true
   },
   "outputs": [
    {
     "data": {
      "text/plain": [
       "0    499767\n",
       "1       233\n",
       "Name: isFraud, dtype: int64"
      ]
     },
     "execution_count": 81,
     "metadata": {},
     "output_type": "execute_result"
    }
   ],
   "source": [
    "df['isFraud'].value_counts()"
   ]
  },
  {
   "cell_type": "code",
   "execution_count": 82,
   "id": "209f6045",
   "metadata": {},
   "outputs": [
    {
     "data": {
      "text/plain": [
       "<AxesSubplot:xlabel='isFraud', ylabel='count'>"
      ]
     },
     "execution_count": 82,
     "metadata": {},
     "output_type": "execute_result"
    },
    {
     "data": {
      "image/png": "[encoded data removed]",
      "text/plain": [
       "<Figure size 640x480 with 1 Axes>"
      ]
     },
     "metadata": {},
     "output_type": "display_data"
    }
   ],
   "source": [
    "sns.countplot(x=df['isFraud'])"
   ]
  },
  {
   "cell_type": "code",
   "execution_count": 83,
   "id": "89dbab09",
   "metadata": {},
   "outputs": [],
   "source": [
    "x = df.drop(['isFraud', 'nameOrig', 'nameDest'], axis = 1)\n",
    "y = df['isFraud']"
   ]
  },
  {
   "cell_type": "code",
   "execution_count": 84,
   "id": "b409fd6b",
   "metadata": {},
   "outputs": [],
   "source": [
    "x_train, x_test, y_train, y_test = train_test_split(x,y,test_size=0.3, random_state=2)"
   ]
  },
  {
   "cell_type": "code",
   "execution_count": 85,
   "id": "1d245970",
   "metadata": {},
   "outputs": [
    {
     "data": {
      "text/plain": [
       "LogisticRegression()"
      ]
     },
     "execution_count": 85,
     "metadata": {},
     "output_type": "execute_result"
    }
   ],
   "source": [
    "logistic_clf = LogisticRegression()\n",
    "logistic_clf.fit(x_train, y_train)"
   ]
  },
  {
   "cell_type": "code",
   "execution_count": 86,
   "id": "fd8ad9b7",
   "metadata": {
    "scrolled": true
   },
   "outputs": [
    {
     "data": {
      "text/plain": [
       "0.9996085714285714"
      ]
     },
     "execution_count": 86,
     "metadata": {},
     "output_type": "execute_result"
    }
   ],
   "source": [
    "logistic_clf.score(x_train,y_train)"
   ]
  },
  {
   "cell_type": "code",
   "execution_count": 87,
   "id": "dda44e22",
   "metadata": {
    "scrolled": true
   },
   "outputs": [
    {
     "data": {
      "text/plain": [
       "0.9996066666666666"
      ]
     },
     "execution_count": 87,
     "metadata": {},
     "output_type": "execute_result"
    }
   ],
   "source": [
    "logistic_clf.score(x_test,y_test)"
   ]
  },
  {
   "cell_type": "code",
   "execution_count": 88,
   "id": "d5f2017e",
   "metadata": {
    "scrolled": true
   },
   "outputs": [
    {
     "data": {
      "text/plain": [
       "array([[149924,      4],\n",
       "       [    55,     17]], dtype=int64)"
      ]
     },
     "execution_count": 88,
     "metadata": {},
     "output_type": "execute_result"
    }
   ],
   "source": [
    "y_pred = logistic_clf.predict(x_test)\n",
    "confusion_matrix(y_test, y_pred)"
   ]
  },
  {
   "cell_type": "code",
   "execution_count": 89,
   "id": "8cd13aed",
   "metadata": {
    "scrolled": false
   },
   "outputs": [
    {
     "name": "stdout",
     "output_type": "stream",
     "text": [
      "Classification Report :\n",
      "               precision    recall  f1-score   support\n",
      "\n",
      "           0       1.00      1.00      1.00    149928\n",
      "           1       0.81      0.24      0.37        72\n",
      "\n",
      "    accuracy                           1.00    150000\n",
      "   macro avg       0.90      0.62      0.68    150000\n",
      "weighted avg       1.00      1.00      1.00    150000\n",
      "\n"
     ]
    }
   ],
   "source": [
    "clf_report = classification_report(y_test, y_pred)\n",
    "print(\"Classification Report :\\n\",clf_report)"
   ]
  },
  {
   "cell_type": "code",
   "execution_count": 90,
   "id": "2ef1b9ef",
   "metadata": {
    "scrolled": true
   },
   "outputs": [
    {
     "name": "stdout",
     "output_type": "stream",
     "text": [
      "Confusion Matrix :\n",
      " [[149924      4]\n",
      " [    55     17]]\n",
      "**************************************************\n",
      "Classification Report :\n",
      "               precision    recall  f1-score   support\n",
      "\n",
      "           0       1.00      1.00      1.00    149928\n",
      "           1       0.81      0.24      0.37        72\n",
      "\n",
      "    accuracy                           1.00    150000\n",
      "   macro avg       0.90      0.62      0.68    150000\n",
      "weighted avg       1.00      1.00      1.00    150000\n",
      "\n",
      "**************************************************\n",
      "Accuracy :\n",
      " 0.9996066666666666\n",
      "**************************************************\n"
     ]
    }
   ],
   "source": [
    "# Evaluation on Testning Data\n",
    "\n",
    "y_pred = logistic_clf.predict(x_test)\n",
    "\n",
    "cnf_matrix = confusion_matrix(y_test, y_pred)\n",
    "print(\"Confusion Matrix :\\n\",cnf_matrix)\n",
    "print(\"*\"*50)\n",
    "\n",
    "clf_report = classification_report(y_test, y_pred)\n",
    "print(\"Classification Report :\\n\",clf_report)\n",
    "print(\"*\"*50)\n",
    "\n",
    "accuracy = accuracy_score(y_test, y_pred)\n",
    "print(\"Accuracy :\\n\",accuracy)\n",
    "print(\"*\"*50)"
   ]
  },
  {
   "cell_type": "code",
   "execution_count": 91,
   "id": "e4e5b185",
   "metadata": {
    "scrolled": true
   },
   "outputs": [
    {
     "name": "stdout",
     "output_type": "stream",
     "text": [
      "Confusion Matrix :\n",
      " [[349826     13]\n",
      " [   124     37]]\n",
      "**************************************************\n",
      "Classification Report :\n",
      "               precision    recall  f1-score   support\n",
      "\n",
      "           0       1.00      1.00      1.00    349839\n",
      "           1       0.74      0.23      0.35       161\n",
      "\n",
      "    accuracy                           1.00    350000\n",
      "   macro avg       0.87      0.61      0.68    350000\n",
      "weighted avg       1.00      1.00      1.00    350000\n",
      "\n",
      "**************************************************\n",
      "Accuracy :\n",
      " 0.9996085714285714\n",
      "**************************************************\n"
     ]
    }
   ],
   "source": [
    "# Evaluation on Training Data\n",
    "\n",
    "y_pred_train = logistic_clf.predict(x_train)\n",
    "\n",
    "cnf_matrix = confusion_matrix(y_train, y_pred_train)\n",
    "print(\"Confusion Matrix :\\n\",cnf_matrix)\n",
    "print(\"*\"*50)\n",
    "\n",
    "clf_report = classification_report(y_train, y_pred_train)\n",
    "print(\"Classification Report :\\n\",clf_report)\n",
    "print(\"*\"*50)\n",
    "\n",
    "accuracy = accuracy_score(y_train, y_pred_train)\n",
    "print(\"Accuracy :\\n\",accuracy)\n",
    "print(\"*\"*50)"
   ]
  },
  {
   "cell_type": "markdown",
   "id": "576318c7",
   "metadata": {},
   "source": [
    "### ROC Curve"
   ]
  },
  {
   "cell_type": "code",
   "execution_count": 92,
   "id": "83d62e25",
   "metadata": {
    "scrolled": true
   },
   "outputs": [
    {
     "data": {
      "text/plain": [
       "array([[9.98004081e-01, 1.99591910e-03],\n",
       "       [9.99986614e-01, 1.33859368e-05],\n",
       "       [9.99999984e-01, 1.59140914e-08],\n",
       "       ...,\n",
       "       [9.99955918e-01, 4.40818106e-05],\n",
       "       [9.99999716e-01, 2.84387959e-07],\n",
       "       [9.99999838e-01, 1.62034686e-07]])"
      ]
     },
     "execution_count": 92,
     "metadata": {},
     "output_type": "execute_result"
    }
   ],
   "source": [
    "y_pred_train_prob = logistic_clf.predict_proba(x_train)\n",
    "y_pred_train_prob"
   ]
  },
  {
   "cell_type": "code",
   "execution_count": 93,
   "id": "7bc9d87b",
   "metadata": {},
   "outputs": [
    {
     "name": "stdout",
     "output_type": "stream",
     "text": [
      "0.999980 0.000020\n"
     ]
    }
   ],
   "source": [
    "prob1 = 9.99979577e-01\n",
    "prob2 = 2.04229624e-05\n",
    "print(f'{prob1:.6f}', f'{prob2:.6f}')"
   ]
  },
  {
   "cell_type": "code",
   "execution_count": 94,
   "id": "652dfa59",
   "metadata": {
    "scrolled": true
   },
   "outputs": [
    {
     "data": {
      "text/plain": [
       "array([0.00000000e+00, 0.00000000e+00, 0.00000000e+00, 2.85845775e-06,\n",
       "       2.85845775e-06, 8.57537324e-06, 8.57537324e-06, 1.14338310e-05,\n",
       "       1.14338310e-05, 2.00092042e-05, 2.00092042e-05, 2.85845775e-05,\n",
       "       2.85845775e-05, 3.71599507e-05, 3.71599507e-05, 6.28860704e-05,\n",
       "       6.28860704e-05, 1.02904479e-04, 1.02904479e-04, 1.17196768e-04,\n",
       "       1.17196768e-04, 1.51498261e-04, 1.51498261e-04, 1.68649007e-04,\n",
       "       1.68649007e-04, 3.34439556e-04, 3.34439556e-04, 1.37777663e-03,\n",
       "       1.37777663e-03, 1.58072713e-03, 1.58072713e-03, 1.59787788e-03,\n",
       "       1.59787788e-03, 1.65790549e-03, 1.65790549e-03, 1.70649928e-03,\n",
       "       1.70649928e-03, 1.78939455e-03, 1.78939455e-03, 2.76412864e-03,\n",
       "       2.76412864e-03, 2.77556247e-03, 2.77556247e-03, 2.89847616e-03,\n",
       "       2.89847616e-03, 2.90419307e-03, 2.90419307e-03, 3.36440477e-03,\n",
       "       3.36440477e-03, 3.52733686e-03, 3.52733686e-03, 3.64167517e-03,\n",
       "       3.64167517e-03, 3.75887194e-03, 3.75887194e-03, 3.91894557e-03,\n",
       "       3.91894557e-03, 3.93609632e-03, 3.93609632e-03, 4.09045304e-03,\n",
       "       4.09045304e-03, 4.19049906e-03, 4.19049906e-03, 4.31912966e-03,\n",
       "       4.31912966e-03, 4.39630802e-03, 4.39630802e-03, 4.59640006e-03,\n",
       "       4.59640006e-03, 4.91940578e-03, 4.91940578e-03, 4.92226424e-03,\n",
       "       4.92226424e-03, 4.94227345e-03, 4.94227345e-03, 5.01087643e-03,\n",
       "       5.01087643e-03, 5.47680504e-03, 5.47680504e-03, 5.77980157e-03,\n",
       "       5.77980157e-03, 5.83982918e-03, 5.83982918e-03, 5.85983838e-03,\n",
       "       5.85983838e-03, 5.86269684e-03, 5.86269684e-03, 5.86841376e-03,\n",
       "       5.86841376e-03, 5.97417669e-03, 5.97417669e-03, 5.97703515e-03,\n",
       "       5.97703515e-03, 5.98846898e-03, 5.98846898e-03, 6.00276127e-03,\n",
       "       6.00276127e-03, 6.05993043e-03, 6.05993043e-03, 6.06564734e-03,\n",
       "       6.06564734e-03, 6.07136426e-03, 6.07136426e-03, 6.12281650e-03,\n",
       "       6.12281650e-03, 6.32862545e-03, 6.32862545e-03, 6.86029859e-03,\n",
       "       6.86029859e-03, 7.86933418e-03, 7.86933418e-03, 7.89791876e-03,\n",
       "       7.89791876e-03, 8.00939861e-03, 8.00939861e-03, 8.02654936e-03,\n",
       "       8.02654936e-03, 8.03512473e-03, 8.03512473e-03, 8.15232150e-03,\n",
       "       8.15232150e-03, 8.45531802e-03, 8.45531802e-03, 8.45817648e-03,\n",
       "       8.45817648e-03, 1.21941808e-02, 1.21941808e-02, 1.27830230e-02,\n",
       "       1.27830230e-02, 1.29631059e-02, 1.29631059e-02, 1.40721875e-02,\n",
       "       1.40721875e-02, 1.45238238e-02, 1.45238238e-02, 1.45924268e-02,\n",
       "       1.45924268e-02, 2.39681682e-02, 2.39681682e-02, 2.81500919e-02,\n",
       "       2.81500919e-02, 2.87961034e-02, 2.87961034e-02, 3.23205818e-02,\n",
       "       3.23262987e-02, 3.26035691e-02, 3.26092860e-02, 3.50932858e-02,\n",
       "       3.50932858e-02, 3.87292440e-02, 3.87349609e-02, 4.35628961e-02,\n",
       "       4.35628961e-02, 4.97285894e-02, 4.97285894e-02, 5.55712771e-02,\n",
       "       5.55769940e-02, 6.43867608e-02, 6.43867608e-02, 6.44467884e-02,\n",
       "       6.44467884e-02, 7.33108659e-02, 7.33108659e-02, 7.70926055e-02,\n",
       "       7.70926055e-02, 8.02140413e-02, 8.02197582e-02, 8.17175901e-02,\n",
       "       8.17233070e-02, 9.91284562e-02, 9.91284562e-02, 1.02069809e-01,\n",
       "       1.02069809e-01, 1.04073588e-01, 1.04073588e-01, 1.04856806e-01,\n",
       "       1.04856806e-01, 1.07040667e-01, 1.07040667e-01, 1.09198803e-01,\n",
       "       1.09198803e-01, 1.10279300e-01, 1.10285017e-01, 1.10502260e-01,\n",
       "       1.10502260e-01, 1.10656616e-01, 1.10662333e-01, 1.15424524e-01,\n",
       "       1.15424524e-01, 1.18405895e-01, 1.18405895e-01, 1.27538668e-01,\n",
       "       1.27538668e-01, 1.30940233e-01, 1.30940233e-01, 1.33770106e-01,\n",
       "       1.33770106e-01, 1.35333682e-01, 1.35333682e-01, 1.40327408e-01,\n",
       "       1.40327408e-01, 1.40827638e-01, 1.40827638e-01, 1.42588448e-01,\n",
       "       1.42594165e-01, 1.42782823e-01, 1.42788540e-01, 1.46327311e-01,\n",
       "       1.46327311e-01, 1.49194344e-01, 1.49200061e-01, 1.51844134e-01,\n",
       "       1.51844134e-01, 1.59399038e-01, 1.59404755e-01, 1.65541864e-01,\n",
       "       1.65541864e-01, 1.67336975e-01, 1.67336975e-01, 1.70346931e-01,\n",
       "       1.70346931e-01, 1.71730425e-01, 1.71730425e-01, 1.73494093e-01,\n",
       "       1.73499810e-01, 1.80454438e-01, 1.80454438e-01, 1.88555307e-01,\n",
       "       1.88555307e-01, 1.88884030e-01, 1.88884030e-01, 1.95715744e-01,\n",
       "       1.95715744e-01, 2.00100618e-01, 2.00100618e-01, 2.09030440e-01,\n",
       "       2.09030440e-01, 2.12646389e-01, 2.12646389e-01, 2.20307056e-01,\n",
       "       2.20307056e-01, 2.20455695e-01, 2.20455695e-01, 2.27936279e-01,\n",
       "       2.27941996e-01, 2.29571317e-01, 2.29577034e-01, 2.38821286e-01,\n",
       "       2.38821286e-01, 2.46919297e-01, 2.46919297e-01, 2.55554698e-01,\n",
       "       2.55560415e-01, 2.90499344e-01, 2.90499344e-01, 3.00269553e-01,\n",
       "       3.00269553e-01, 3.03914086e-01, 3.03914086e-01, 3.04986008e-01,\n",
       "       3.04991725e-01, 3.09319430e-01, 3.09325147e-01, 3.11649073e-01,\n",
       "       3.11654790e-01, 3.22208216e-01, 3.22208216e-01, 3.32961734e-01,\n",
       "       3.32961734e-01, 3.33196127e-01, 3.33196127e-01, 3.40087869e-01,\n",
       "       3.40087869e-01, 3.57235757e-01, 3.57241474e-01, 3.62046541e-01,\n",
       "       3.62052258e-01, 3.63395733e-01, 3.63395733e-01, 3.64867839e-01,\n",
       "       3.64873556e-01, 3.91071321e-01, 3.91071321e-01, 4.03188324e-01,\n",
       "       4.03194041e-01, 4.04063012e-01, 4.04068729e-01, 4.07979099e-01,\n",
       "       4.07984816e-01, 4.08693713e-01, 4.08699430e-01, 4.09162500e-01,\n",
       "       4.09168217e-01, 4.12155306e-01, 4.12161023e-01, 4.32338876e-01,\n",
       "       4.32344593e-01, 4.46425356e-01, 4.46425356e-01, 4.59348443e-01,\n",
       "       4.59348443e-01, 4.85540491e-01, 4.85540491e-01, 5.68361446e-01,\n",
       "       5.68361446e-01, 6.14897138e-01, 6.14897138e-01, 6.46222977e-01,\n",
       "       6.46222977e-01, 6.95788634e-01, 6.95788634e-01, 6.98884344e-01,\n",
       "       6.98884344e-01, 8.47149689e-01, 8.47149689e-01, 9.92490831e-01,\n",
       "       1.00000000e+00])"
      ]
     },
     "execution_count": 94,
     "metadata": {},
     "output_type": "execute_result"
    }
   ],
   "source": [
    "fpr, tpr, thresh = roc_curve(y_train, y_pred_train_prob[:,1])\n",
    "fpr"
   ]
  },
  {
   "cell_type": "code",
   "execution_count": 95,
   "id": "ba094b55",
   "metadata": {
    "scrolled": true
   },
   "outputs": [
    {
     "data": {
      "image/png": "[encoded data removed]",
      "text/plain": [
       "<Figure size 700x500 with 1 Axes>"
      ]
     },
     "metadata": {},
     "output_type": "display_data"
    }
   ],
   "source": [
    "plt.figure(figsize=(7,5))\n",
    "plt.title(\"ROC Curve\")\n",
    "plt.plot(fpr, tpr)\n",
    "plt.xlabel(\"False Positive Rate (FPR)\")\n",
    "plt.ylabel(\"True Positive Rate (TPR)\")\n",
    "plt.savefig(\"ROC_Curve.png\")"
   ]
  },
  {
   "cell_type": "code",
   "execution_count": 96,
   "id": "d9f5b53b",
   "metadata": {
    "scrolled": true
   },
   "outputs": [
    {
     "data": {
      "application/vnd.plotly.v1+json": {
       "config": {
        "plotlyServerURL": "https://plot.ly"
       },
       "data": [
        {
         "hovertemplate": "x=%{x}<br>y=%{y}<extra></extra>",
         "legendgroup": "",
         "marker": {
          "color": "#636efa",
          "symbol": "circle"
         },
         "mode": "markers",
         "name": "",
         "orientation": "v",
         "showlegend": false,
         "type": "scatter",
         "x": [
          0,
          0,
          0,
          2.8584577477068024e-06,
          2.8584577477068024e-06,
          8.575373243120406e-06,
          8.575373243120406e-06,
          1.143383099082721e-05,
          1.143383099082721e-05,
          2.0009204233947616e-05,
          2.0009204233947616e-05,
          2.8584577477068022e-05,
          2.8584577477068022e-05,
          3.715995072018843e-05,
          3.715995072018843e-05,
          6.288607044954964e-05,
          6.288607044954964e-05,
          0.00010290447891744488,
          0.00010290447891744488,
          0.0001171967676559789,
          0.0001171967676559789,
          0.0001514982606284605,
          0.0001514982606284605,
          0.00016864900711470134,
          0.00016864900711470134,
          0.00033443955648169586,
          0.00033443955648169586,
          0.0013777766343946788,
          0.0013777766343946788,
          0.0015807271344818617,
          0.0015807271344818617,
          0.0015978778809681024,
          0.0015978778809681024,
          0.0016579054936699453,
          0.0016579054936699453,
          0.0017064992753809609,
          0.0017064992753809609,
          0.0017893945500644583,
          0.0017893945500644583,
          0.0027641286420324778,
          0.0027641286420324778,
          0.002775562473023305,
          0.002775562473023305,
          0.0028984761561746974,
          0.0028984761561746974,
          0.002904193071670111,
          0.002904193071670111,
          0.0033644047690509064,
          0.0033644047690509064,
          0.003527336860670194,
          0.003527336860670194,
          0.003641675170578466,
          0.003641675170578466,
          0.003758871938234445,
          0.003758871938234445,
          0.003918945572106026,
          0.003918945572106026,
          0.003936096318592266,
          0.003936096318592266,
          0.004090453036968434,
          0.004090453036968434,
          0.0041904990581381725,
          0.0041904990581381725,
          0.0043191296567849785,
          0.0043191296567849785,
          0.004396308015973062,
          0.004396308015973062,
          0.0045964000583125384,
          0.0045964000583125384,
          0.004919405783803407,
          0.004919405783803407,
          0.004922264241551113,
          0.004922264241551113,
          0.004942273445785061,
          0.004942273445785061,
          0.005010876431730024,
          0.005010876431730024,
          0.005476805044606233,
          0.005476805044606233,
          0.005779801565863154,
          0.005779801565863154,
          0.005839829178564997,
          0.005839829178564997,
          0.0058598383827989445,
          0.0058598383827989445,
          0.005862696840546651,
          0.005862696840546651,
          0.005868413756042065,
          0.005868413756042065,
          0.0059741766927072166,
          0.0059741766927072166,
          0.005977035150454923,
          0.005977035150454923,
          0.0059884689814457505,
          0.0059884689814457505,
          0.006002761270184284,
          0.006002761270184284,
          0.006059930425138421,
          0.006059930425138421,
          0.006065647340633834,
          0.006065647340633834,
          0.006071364256129248,
          0.006071364256129248,
          0.0061228164955879705,
          0.0061228164955879705,
          0.00632862545342286,
          0.00632862545342286,
          0.006860298594496325,
          0.006860298594496325,
          0.007869334179436827,
          0.007869334179436827,
          0.007897918756913895,
          0.007897918756913895,
          0.00800939860907446,
          0.00800939860907446,
          0.008026549355560702,
          0.008026549355560702,
          0.00803512472880382,
          0.00803512472880382,
          0.008152321496459801,
          0.008152321496459801,
          0.00845531801771672,
          0.00845531801771672,
          0.008458176475464428,
          0.008458176475464428,
          0.012194180751717219,
          0.012194180751717219,
          0.01278302304774482,
          0.01278302304774482,
          0.012963105885850349,
          0.012963105885850349,
          0.014072187491960587,
          0.014072187491960587,
          0.014523823816098262,
          0.014523823816098262,
          0.014592426802043226,
          0.014592426802043226,
          0.023968168214521537,
          0.023968168214521537,
          0.02815009189941659,
          0.02815009189941659,
          0.028796103350398325,
          0.028796103350398325,
          0.032320581753320816,
          0.03232629866881623,
          0.032603569070343785,
          0.032609285985839204,
          0.03509328576859641,
          0.03509328576859641,
          0.038729244023679464,
          0.038734960939174876,
          0.04356289607505167,
          0.04356289607505167,
          0.049728589436855236,
          0.049728589436855236,
          0.055571277073167946,
          0.05557699398866336,
          0.06438676076709572,
          0.06438676076709572,
          0.06444678837979756,
          0.06444678837979756,
          0.07331086585543636,
          0.07331086585543636,
          0.07709260545565245,
          0.07709260545565245,
          0.08021404131614829,
          0.08021975823164369,
          0.08171759009144207,
          0.08172330700693747,
          0.09912845623272419,
          0.09912845623272419,
          0.1020698092551145,
          0.1020698092551145,
          0.10407358813625696,
          0.10407358813625696,
          0.10485680555912863,
          0.10485680555912863,
          0.10704066727837662,
          0.10704066727837662,
          0.10919880287789525,
          0.10919880287789525,
          0.11027929990652843,
          0.11028501682202385,
          0.11050225961084956,
          0.11050225961084956,
          0.11065661632922573,
          0.11066233324472115,
          0.11542452385240068,
          0.11542452385240068,
          0.11840589528325887,
          0.11840589528325887,
          0.1275386677871821,
          0.1275386677871821,
          0.1309402325069532,
          0.1309402325069532,
          0.13377010567718292,
          0.13377010567718292,
          0.13533368206517854,
          0.13533368206517854,
          0.14032740775042235,
          0.14032740775042235,
          0.14082763785627103,
          0.14082763785627103,
          0.1425884478288584,
          0.14259416474435382,
          0.1427828229557025,
          0.14278853987119788,
          0.14632731056285891,
          0.14632731056285891,
          0.14919434368380885,
          0.14920006059930424,
          0.15184413401593305,
          0.15184413401593305,
          0.15939903784312212,
          0.15940475475861754,
          0.16554186354294403,
          0.16554186354294403,
          0.16733697500850392,
          0.16733697500850392,
          0.17034693101683918,
          0.17034693101683918,
          0.17173042456672927,
          0.17173042456672927,
          0.17349409299706436,
          0.17349980991255978,
          0.18045443761273042,
          0.18045443761273042,
          0.18855530686973151,
          0.18855530686973151,
          0.18888402951071778,
          0.18888402951071778,
          0.19571574352773705,
          0.19571574352773705,
          0.20010061771271928,
          0.20010061771271928,
          0.20903043971655533,
          0.20903043971655533,
          0.21264638876740444,
          0.21264638876740444,
          0.22030705553125868,
          0.22030705553125868,
          0.22045569533413942,
          0.22045569533413942,
          0.22793627925988813,
          0.22794199617538352,
          0.2295713170915764,
          0.22957703400707183,
          0.2388212863631556,
          0.2388212863631556,
          0.24691929716240898,
          0.24691929716240898,
          0.2555546980182312,
          0.25556041493372667,
          0.2904993439839469,
          0.2904993439839469,
          0.3002695525656088,
          0.3002695525656088,
          0.30391408619393495,
          0.30391408619393495,
          0.304986007849325,
          0.3049917247648204,
          0.3093194297948485,
          0.3093251467103439,
          0.31164907285922955,
          0.31165478977472494,
          0.32220821577925846,
          0.32220821577925846,
          0.3329617338261314,
          0.3329617338261314,
          0.3331961273614434,
          0.3331961273614434,
          0.3400878689911645,
          0.3400878689911645,
          0.3572357570196576,
          0.35724147393515304,
          0.3620465414090482,
          0.3620522583245436,
          0.36339573346596576,
          0.36339573346596576,
          0.36486783920603477,
          0.36487355612153016,
          0.39107132137926304,
          0.39107132137926304,
          0.40318832377179215,
          0.4031940406872876,
          0.40406301184259047,
          0.40406872875808586,
          0.4079790989569488,
          0.4079848158724442,
          0.40869371339387545,
          0.4086994303093709,
          0.40916250046449937,
          0.4091682173799948,
          0.4121553057263484,
          0.41216102264184384,
          0.43233887588290615,
          0.43234459279840154,
          0.44642535566360525,
          0.44642535566360525,
          0.4593484431409877,
          0.4593484431409877,
          0.48554049148322515,
          0.48554049148322515,
          0.5683614462652821,
          0.5683614462652821,
          0.6148971383979488,
          0.6148971383979488,
          0.6462229768550676,
          0.6462229768550676,
          0.6957886342003036,
          0.6957886342003036,
          0.69888434394107,
          0.69888434394107,
          0.8471496888568741,
          0.8471496888568741,
          0.9924908314967742,
          1
         ],
         "xaxis": "x",
         "y": [
          0,
          0.024844720496894408,
          0.09316770186335403,
          0.09316770186335403,
          0.13043478260869565,
          0.13043478260869565,
          0.16149068322981366,
          0.16149068322981366,
          0.19875776397515527,
          0.19875776397515527,
          0.20496894409937888,
          0.20496894409937888,
          0.21739130434782608,
          0.21739130434782608,
          0.22981366459627328,
          0.22981366459627328,
          0.2484472049689441,
          0.2484472049689441,
          0.2546583850931677,
          0.2546583850931677,
          0.2608695652173913,
          0.2608695652173913,
          0.2670807453416149,
          0.2670807453416149,
          0.2732919254658385,
          0.2732919254658385,
          0.2795031055900621,
          0.2795031055900621,
          0.2857142857142857,
          0.2857142857142857,
          0.2919254658385093,
          0.2919254658385093,
          0.2981366459627329,
          0.2981366459627329,
          0.30434782608695654,
          0.30434782608695654,
          0.3105590062111801,
          0.3105590062111801,
          0.3167701863354037,
          0.3167701863354037,
          0.32298136645962733,
          0.32298136645962733,
          0.32919254658385094,
          0.32919254658385094,
          0.33540372670807456,
          0.33540372670807456,
          0.3416149068322981,
          0.3416149068322981,
          0.34782608695652173,
          0.34782608695652173,
          0.35403726708074534,
          0.35403726708074534,
          0.36024844720496896,
          0.36024844720496896,
          0.36645962732919257,
          0.36645962732919257,
          0.37267080745341613,
          0.37267080745341613,
          0.37888198757763975,
          0.37888198757763975,
          0.38509316770186336,
          0.38509316770186336,
          0.391304347826087,
          0.391304347826087,
          0.39751552795031053,
          0.39751552795031053,
          0.40372670807453415,
          0.40372670807453415,
          0.40993788819875776,
          0.40993788819875776,
          0.4161490683229814,
          0.4161490683229814,
          0.422360248447205,
          0.422360248447205,
          0.42857142857142855,
          0.42857142857142855,
          0.43478260869565216,
          0.43478260869565216,
          0.4409937888198758,
          0.4409937888198758,
          0.4472049689440994,
          0.4472049689440994,
          0.453416149068323,
          0.453416149068323,
          0.45962732919254656,
          0.45962732919254656,
          0.4658385093167702,
          0.4658385093167702,
          0.4720496894409938,
          0.4720496894409938,
          0.484472049689441,
          0.484472049689441,
          0.4906832298136646,
          0.4906832298136646,
          0.4968944099378882,
          0.4968944099378882,
          0.5031055900621118,
          0.5031055900621118,
          0.5093167701863354,
          0.5093167701863354,
          0.515527950310559,
          0.515527950310559,
          0.5217391304347826,
          0.5217391304347826,
          0.5279503105590062,
          0.5279503105590062,
          0.5341614906832298,
          0.5341614906832298,
          0.5403726708074534,
          0.5403726708074534,
          0.546583850931677,
          0.546583850931677,
          0.5527950310559007,
          0.5527950310559007,
          0.5590062111801242,
          0.5590062111801242,
          0.5652173913043478,
          0.5652173913043478,
          0.5714285714285714,
          0.5714285714285714,
          0.577639751552795,
          0.577639751552795,
          0.5838509316770186,
          0.5838509316770186,
          0.5900621118012422,
          0.5900621118012422,
          0.5962732919254659,
          0.5962732919254659,
          0.6024844720496895,
          0.6024844720496895,
          0.6086956521739131,
          0.6086956521739131,
          0.6149068322981367,
          0.6149068322981367,
          0.6211180124223602,
          0.6211180124223602,
          0.6273291925465838,
          0.6273291925465838,
          0.6335403726708074,
          0.6335403726708074,
          0.639751552795031,
          0.639751552795031,
          0.6459627329192547,
          0.6459627329192547,
          0.6459627329192547,
          0.6459627329192547,
          0.6459627329192547,
          0.6459627329192547,
          0.6521739130434783,
          0.6521739130434783,
          0.6521739130434783,
          0.6521739130434783,
          0.6583850931677019,
          0.6583850931677019,
          0.6645962732919255,
          0.6645962732919255,
          0.6645962732919255,
          0.6645962732919255,
          0.6708074534161491,
          0.6708074534161491,
          0.6770186335403726,
          0.6770186335403726,
          0.6832298136645962,
          0.6832298136645962,
          0.6894409937888198,
          0.6894409937888198,
          0.6894409937888198,
          0.6894409937888198,
          0.6894409937888198,
          0.6894409937888198,
          0.6956521739130435,
          0.6956521739130435,
          0.7018633540372671,
          0.7018633540372671,
          0.7080745341614907,
          0.7080745341614907,
          0.7142857142857143,
          0.7142857142857143,
          0.7204968944099379,
          0.7204968944099379,
          0.7267080745341615,
          0.7267080745341615,
          0.7267080745341615,
          0.7267080745341615,
          0.7329192546583851,
          0.7329192546583851,
          0.7329192546583851,
          0.7329192546583851,
          0.7391304347826086,
          0.7391304347826086,
          0.7453416149068323,
          0.7453416149068323,
          0.7515527950310559,
          0.7515527950310559,
          0.7577639751552795,
          0.7577639751552795,
          0.7639751552795031,
          0.7639751552795031,
          0.7701863354037267,
          0.7701863354037267,
          0.7763975155279503,
          0.7763975155279503,
          0.782608695652174,
          0.782608695652174,
          0.782608695652174,
          0.782608695652174,
          0.782608695652174,
          0.782608695652174,
          0.7888198757763976,
          0.7888198757763976,
          0.7888198757763976,
          0.7888198757763976,
          0.7950310559006211,
          0.7950310559006211,
          0.7950310559006211,
          0.7950310559006211,
          0.8012422360248447,
          0.8012422360248447,
          0.8074534161490683,
          0.8074534161490683,
          0.8136645962732919,
          0.8136645962732919,
          0.8198757763975155,
          0.8198757763975155,
          0.8198757763975155,
          0.8198757763975155,
          0.8260869565217391,
          0.8260869565217391,
          0.8322981366459627,
          0.8322981366459627,
          0.8385093167701864,
          0.8385093167701864,
          0.84472049689441,
          0.84472049689441,
          0.8509316770186336,
          0.8509316770186336,
          0.8571428571428571,
          0.8571428571428571,
          0.8633540372670807,
          0.8633540372670807,
          0.8695652173913043,
          0.8695652173913043,
          0.8757763975155279,
          0.8757763975155279,
          0.8757763975155279,
          0.8757763975155279,
          0.8757763975155279,
          0.8757763975155279,
          0.8819875776397516,
          0.8819875776397516,
          0.8881987577639752,
          0.8881987577639752,
          0.8881987577639752,
          0.8881987577639752,
          0.8944099378881988,
          0.8944099378881988,
          0.9006211180124224,
          0.9006211180124224,
          0.906832298136646,
          0.906832298136646,
          0.906832298136646,
          0.906832298136646,
          0.906832298136646,
          0.906832298136646,
          0.906832298136646,
          0.906832298136646,
          0.9130434782608695,
          0.9130434782608695,
          0.9192546583850931,
          0.9192546583850931,
          0.9254658385093167,
          0.9254658385093167,
          0.9316770186335404,
          0.9316770186335404,
          0.9316770186335404,
          0.9316770186335404,
          0.9316770186335404,
          0.9316770186335404,
          0.937888198757764,
          0.937888198757764,
          0.937888198757764,
          0.937888198757764,
          0.9440993788819876,
          0.9440993788819876,
          0.9440993788819876,
          0.9440993788819876,
          0.9440993788819876,
          0.9440993788819876,
          0.9440993788819876,
          0.9440993788819876,
          0.9440993788819876,
          0.9440993788819876,
          0.9440993788819876,
          0.9440993788819876,
          0.9440993788819876,
          0.9440993788819876,
          0.9440993788819876,
          0.9440993788819876,
          0.9503105590062112,
          0.9503105590062112,
          0.9565217391304348,
          0.9565217391304348,
          0.9627329192546584,
          0.9627329192546584,
          0.968944099378882,
          0.968944099378882,
          0.9751552795031055,
          0.9751552795031055,
          0.9813664596273292,
          0.9813664596273292,
          0.9875776397515528,
          0.9875776397515528,
          0.9937888198757764,
          0.9937888198757764,
          1,
          1,
          1
         ],
         "yaxis": "y"
        }
       ],
       "layout": {
        "legend": {
         "tracegroupgap": 0
        },
        "margin": {
         "t": 60
        },
        "template": {
         "data": {
          "bar": [
           {
            "error_x": {
             "color": "#2a3f5f"
            },
            "error_y": {
             "color": "#2a3f5f"
            },
            "marker": {
             "line": {
              "color": "#E5ECF6",
              "width": 0.5
             },
             "pattern": {
              "fillmode": "overlay",
              "size": 10,
              "solidity": 0.2
             }
            },
            "type": "bar"
           }
          ],
          "barpolar": [
           {
            "marker": {
             "line": {
              "color": "#E5ECF6",
              "width": 0.5
             },
             "pattern": {
              "fillmode": "overlay",
              "size": 10,
              "solidity": 0.2
             }
            },
            "type": "barpolar"
           }
          ],
          "carpet": [
           {
            "aaxis": {
             "endlinecolor": "#2a3f5f",
             "gridcolor": "white",
             "linecolor": "white",
             "minorgridcolor": "white",
             "startlinecolor": "#2a3f5f"
            },
            "baxis": {
             "endlinecolor": "#2a3f5f",
             "gridcolor": "white",
             "linecolor": "white",
             "minorgridcolor": "white",
             "startlinecolor": "#2a3f5f"
            },
            "type": "carpet"
           }
          ],
          "choropleth": [
           {
            "colorbar": {
             "outlinewidth": 0,
             "ticks": ""
            },
            "type": "choropleth"
           }
          ],
          "contour": [
           {
            "colorbar": {
             "outlinewidth": 0,
             "ticks": ""
            },
            "colorscale": [
             [
              0,
              "#0d0887"
             ],
             [
              0.1111111111111111,
              "#46039f"
             ],
             [
              0.2222222222222222,
              "#7201a8"
             ],
             [
              0.3333333333333333,
              "#9c179e"
             ],
             [
              0.4444444444444444,
              "#bd3786"
             ],
             [
              0.5555555555555556,
              "#d8576b"
             ],
             [
              0.6666666666666666,
              "#ed7953"
             ],
             [
              0.7777777777777778,
              "#fb9f3a"
             ],
             [
              0.8888888888888888,
              "#fdca26"
             ],
             [
              1,
              "#f0f921"
             ]
            ],
            "type": "contour"
           }
          ],
          "contourcarpet": [
           {
            "colorbar": {
             "outlinewidth": 0,
             "ticks": ""
            },
            "type": "contourcarpet"
           }
          ],
          "heatmap": [
           {
            "colorbar": {
             "outlinewidth": 0,
             "ticks": ""
            },
            "colorscale": [
             [
              0,
              "#0d0887"
             ],
             [
              0.1111111111111111,
              "#46039f"
             ],
             [
              0.2222222222222222,
              "#7201a8"
             ],
             [
              0.3333333333333333,
              "#9c179e"
             ],
             [
              0.4444444444444444,
              "#bd3786"
             ],
             [
              0.5555555555555556,
              "#d8576b"
             ],
             [
              0.6666666666666666,
              "#ed7953"
             ],
             [
              0.7777777777777778,
              "#fb9f3a"
             ],
             [
              0.8888888888888888,
              "#fdca26"
             ],
             [
              1,
              "#f0f921"
             ]
            ],
            "type": "heatmap"
           }
          ],
          "heatmapgl": [
           {
            "colorbar": {
             "outlinewidth": 0,
             "ticks": ""
            },
            "colorscale": [
             [
              0,
              "#0d0887"
             ],
             [
              0.1111111111111111,
              "#46039f"
             ],
             [
              0.2222222222222222,
              "#7201a8"
             ],
             [
              0.3333333333333333,
              "#9c179e"
             ],
             [
              0.4444444444444444,
              "#bd3786"
             ],
             [
              0.5555555555555556,
              "#d8576b"
             ],
             [
              0.6666666666666666,
              "#ed7953"
             ],
             [
              0.7777777777777778,
              "#fb9f3a"
             ],
             [
              0.8888888888888888,
              "#fdca26"
             ],
             [
              1,
              "#f0f921"
             ]
            ],
            "type": "heatmapgl"
           }
          ],
          "histogram": [
           {
            "marker": {
             "pattern": {
              "fillmode": "overlay",
              "size": 10,
              "solidity": 0.2
             }
            },
            "type": "histogram"
           }
          ],
          "histogram2d": [
           {
            "colorbar": {
             "outlinewidth": 0,
             "ticks": ""
            },
            "colorscale": [
             [
              0,
              "#0d0887"
             ],
             [
              0.1111111111111111,
              "#46039f"
             ],
             [
              0.2222222222222222,
              "#7201a8"
             ],
             [
              0.3333333333333333,
              "#9c179e"
             ],
             [
              0.4444444444444444,
              "#bd3786"
             ],
             [
              0.5555555555555556,
              "#d8576b"
             ],
             [
              0.6666666666666666,
              "#ed7953"
             ],
             [
              0.7777777777777778,
              "#fb9f3a"
             ],
             [
              0.8888888888888888,
              "#fdca26"
             ],
             [
              1,
              "#f0f921"
             ]
            ],
            "type": "histogram2d"
           }
          ],
          "histogram2dcontour": [
           {
            "colorbar": {
             "outlinewidth": 0,
             "ticks": ""
            },
            "colorscale": [
             [
              0,
              "#0d0887"
             ],
             [
              0.1111111111111111,
              "#46039f"
             ],
             [
              0.2222222222222222,
              "#7201a8"
             ],
             [
              0.3333333333333333,
              "#9c179e"
             ],
             [
              0.4444444444444444,
              "#bd3786"
             ],
             [
              0.5555555555555556,
              "#d8576b"
             ],
             [
              0.6666666666666666,
              "#ed7953"
             ],
             [
              0.7777777777777778,
              "#fb9f3a"
             ],
             [
              0.8888888888888888,
              "#fdca26"
             ],
             [
              1,
              "#f0f921"
             ]
            ],
            "type": "histogram2dcontour"
           }
          ],
          "mesh3d": [
           {
            "colorbar": {
             "outlinewidth": 0,
             "ticks": ""
            },
            "type": "mesh3d"
           }
          ],
          "parcoords": [
           {
            "line": {
             "colorbar": {
              "outlinewidth": 0,
              "ticks": ""
             }
            },
            "type": "parcoords"
           }
          ],
          "pie": [
           {
            "automargin": true,
            "type": "pie"
           }
          ],
          "scatter": [
           {
            "fillpattern": {
             "fillmode": "overlay",
             "size": 10,
             "solidity": 0.2
            },
            "type": "scatter"
           }
          ],
          "scatter3d": [
           {
            "line": {
             "colorbar": {
              "outlinewidth": 0,
              "ticks": ""
             }
            },
            "marker": {
             "colorbar": {
              "outlinewidth": 0,
              "ticks": ""
             }
            },
            "type": "scatter3d"
           }
          ],
          "scattercarpet": [
           {
            "marker": {
             "colorbar": {
              "outlinewidth": 0,
              "ticks": ""
             }
            },
            "type": "scattercarpet"
           }
          ],
          "scattergeo": [
           {
            "marker": {
             "colorbar": {
              "outlinewidth": 0,
              "ticks": ""
             }
            },
            "type": "scattergeo"
           }
          ],
          "scattergl": [
           {
            "marker": {
             "colorbar": {
              "outlinewidth": 0,
              "ticks": ""
             }
            },
            "type": "scattergl"
           }
          ],
          "scattermapbox": [
           {
            "marker": {
             "colorbar": {
              "outlinewidth": 0,
              "ticks": ""
             }
            },
            "type": "scattermapbox"
           }
          ],
          "scatterpolar": [
           {
            "marker": {
             "colorbar": {
              "outlinewidth": 0,
              "ticks": ""
             }
            },
            "type": "scatterpolar"
           }
          ],
          "scatterpolargl": [
           {
            "marker": {
             "colorbar": {
              "outlinewidth": 0,
              "ticks": ""
             }
            },
            "type": "scatterpolargl"
           }
          ],
          "scatterternary": [
           {
            "marker": {
             "colorbar": {
              "outlinewidth": 0,
              "ticks": ""
             }
            },
            "type": "scatterternary"
           }
          ],
          "surface": [
           {
            "colorbar": {
             "outlinewidth": 0,
             "ticks": ""
            },
            "colorscale": [
             [
              0,
              "#0d0887"
             ],
             [
              0.1111111111111111,
              "#46039f"
             ],
             [
              0.2222222222222222,
              "#7201a8"
             ],
             [
              0.3333333333333333,
              "#9c179e"
             ],
             [
              0.4444444444444444,
              "#bd3786"
             ],
             [
              0.5555555555555556,
              "#d8576b"
             ],
             [
              0.6666666666666666,
              "#ed7953"
             ],
             [
              0.7777777777777778,
              "#fb9f3a"
             ],
             [
              0.8888888888888888,
              "#fdca26"
             ],
             [
              1,
              "#f0f921"
             ]
            ],
            "type": "surface"
           }
          ],
          "table": [
           {
            "cells": {
             "fill": {
              "color": "#EBF0F8"
             },
             "line": {
              "color": "white"
             }
            },
            "header": {
             "fill": {
              "color": "#C8D4E3"
             },
             "line": {
              "color": "white"
             }
            },
            "type": "table"
           }
          ]
         },
         "layout": {
          "annotationdefaults": {
           "arrowcolor": "#2a3f5f",
           "arrowhead": 0,
           "arrowwidth": 1
          },
          "autotypenumbers": "strict",
          "coloraxis": {
           "colorbar": {
            "outlinewidth": 0,
            "ticks": ""
           }
          },
          "colorscale": {
           "diverging": [
            [
             0,
             "#8e0152"
            ],
            [
             0.1,
             "#c51b7d"
            ],
            [
             0.2,
             "#de77ae"
            ],
            [
             0.3,
             "#f1b6da"
            ],
            [
             0.4,
             "#fde0ef"
            ],
            [
             0.5,
             "#f7f7f7"
            ],
            [
             0.6,
             "#e6f5d0"
            ],
            [
             0.7,
             "#b8e186"
            ],
            [
             0.8,
             "#7fbc41"
            ],
            [
             0.9,
             "#4d9221"
            ],
            [
             1,
             "#276419"
            ]
           ],
           "sequential": [
            [
             0,
             "#0d0887"
            ],
            [
             0.1111111111111111,
             "#46039f"
            ],
            [
             0.2222222222222222,
             "#7201a8"
            ],
            [
             0.3333333333333333,
             "#9c179e"
            ],
            [
             0.4444444444444444,
             "#bd3786"
            ],
            [
             0.5555555555555556,
             "#d8576b"
            ],
            [
             0.6666666666666666,
             "#ed7953"
            ],
            [
             0.7777777777777778,
             "#fb9f3a"
            ],
            [
             0.8888888888888888,
             "#fdca26"
            ],
            [
             1,
             "#f0f921"
            ]
           ],
           "sequentialminus": [
            [
             0,
             "#0d0887"
            ],
            [
             0.1111111111111111,
             "#46039f"
            ],
            [
             0.2222222222222222,
             "#7201a8"
            ],
            [
             0.3333333333333333,
             "#9c179e"
            ],
            [
             0.4444444444444444,
             "#bd3786"
            ],
            [
             0.5555555555555556,
             "#d8576b"
            ],
            [
             0.6666666666666666,
             "#ed7953"
            ],
            [
             0.7777777777777778,
             "#fb9f3a"
            ],
            [
             0.8888888888888888,
             "#fdca26"
            ],
            [
             1,
             "#f0f921"
            ]
           ]
          },
          "colorway": [
           "#636efa",
           "#EF553B",
           "#00cc96",
           "#ab63fa",
           "#FFA15A",
           "#19d3f3",
           "#FF6692",
           "#B6E880",
           "#FF97FF",
           "#FECB52"
          ],
          "font": {
           "color": "#2a3f5f"
          },
          "geo": {
           "bgcolor": "white",
           "lakecolor": "white",
           "landcolor": "#E5ECF6",
           "showlakes": true,
           "showland": true,
           "subunitcolor": "white"
          },
          "hoverlabel": {
           "align": "left"
          },
          "hovermode": "closest",
          "mapbox": {
           "style": "light"
          },
          "paper_bgcolor": "white",
          "plot_bgcolor": "#E5ECF6",
          "polar": {
           "angularaxis": {
            "gridcolor": "white",
            "linecolor": "white",
            "ticks": ""
           },
           "bgcolor": "#E5ECF6",
           "radialaxis": {
            "gridcolor": "white",
            "linecolor": "white",
            "ticks": ""
           }
          },
          "scene": {
           "xaxis": {
            "backgroundcolor": "#E5ECF6",
            "gridcolor": "white",
            "gridwidth": 2,
            "linecolor": "white",
            "showbackground": true,
            "ticks": "",
            "zerolinecolor": "white"
           },
           "yaxis": {
            "backgroundcolor": "#E5ECF6",
            "gridcolor": "white",
            "gridwidth": 2,
            "linecolor": "white",
            "showbackground": true,
            "ticks": "",
            "zerolinecolor": "white"
           },
           "zaxis": {
            "backgroundcolor": "#E5ECF6",
            "gridcolor": "white",
            "gridwidth": 2,
            "linecolor": "white",
            "showbackground": true,
            "ticks": "",
            "zerolinecolor": "white"
           }
          },
          "shapedefaults": {
           "line": {
            "color": "#2a3f5f"
           }
          },
          "ternary": {
           "aaxis": {
            "gridcolor": "white",
            "linecolor": "white",
            "ticks": ""
           },
           "baxis": {
            "gridcolor": "white",
            "linecolor": "white",
            "ticks": ""
           },
           "bgcolor": "#E5ECF6",
           "caxis": {
            "gridcolor": "white",
            "linecolor": "white",
            "ticks": ""
           }
          },
          "title": {
           "x": 0.05
          },
          "xaxis": {
           "automargin": true,
           "gridcolor": "white",
           "linecolor": "white",
           "ticks": "",
           "title": {
            "standoff": 15
           },
           "zerolinecolor": "white",
           "zerolinewidth": 2
          },
          "yaxis": {
           "automargin": true,
           "gridcolor": "white",
           "linecolor": "white",
           "ticks": "",
           "title": {
            "standoff": 15
           },
           "zerolinecolor": "white",
           "zerolinewidth": 2
          }
         }
        },
        "xaxis": {
         "anchor": "y",
         "domain": [
          0,
          1
         ],
         "title": {
          "text": "x"
         }
        },
        "yaxis": {
         "anchor": "x",
         "domain": [
          0,
          1
         ],
         "title": {
          "text": "y"
         }
        }
       }
      },
      "text/html": [
       "<div>                            <div id=\"ab1c4f9c-1425-4b55-b196-61f03b030409\" class=\"plotly-graph-div\" style=\"height:525px; width:100%;\"></div>            <script type=\"text/javascript\">                require([\"plotly\"], function(Plotly) {                    window.PLOTLYENV=window.PLOTLYENV || {};                                    if (document.getElementById(\"ab1c4f9c-1425-4b55-b196-61f03b030409\")) {                    Plotly.newPlot(                        \"ab1c4f9c-1425-4b55-b196-61f03b030409\",                        [{\"hovertemplate\":\"x=%{x}<br>y=%{y}<extra></extra>\",\"legendgroup\":\"\",\"marker\":{\"color\":\"#636efa\",\"symbol\":\"circle\"},\"mode\":\"markers\",\"name\":\"\",\"orientation\":\"v\",\"showlegend\":false,\"x\":[0.0,0.0,0.0,2.8584577477068024e-06,2.8584577477068024e-06,8.575373243120406e-06,8.575373243120406e-06,1.143383099082721e-05,1.143383099082721e-05,2.0009204233947616e-05,2.0009204233947616e-05,2.8584577477068022e-05,2.8584577477068022e-05,3.715995072018843e-05,3.715995072018843e-05,6.288607044954964e-05,6.288607044954964e-05,0.00010290447891744488,0.00010290447891744488,0.0001171967676559789,0.0001171967676559789,0.0001514982606284605,0.0001514982606284605,0.00016864900711470134,0.00016864900711470134,0.00033443955648169586,0.00033443955648169586,0.0013777766343946788,0.0013777766343946788,0.0015807271344818617,0.0015807271344818617,0.0015978778809681024,0.0015978778809681024,0.0016579054936699453,0.0016579054936699453,0.0017064992753809609,0.0017064992753809609,0.0017893945500644583,0.0017893945500644583,0.0027641286420324778,0.0027641286420324778,0.002775562473023305,0.002775562473023305,0.0028984761561746974,0.0028984761561746974,0.002904193071670111,0.002904193071670111,0.0033644047690509064,0.0033644047690509064,0.003527336860670194,0.003527336860670194,0.003641675170578466,0.003641675170578466,0.003758871938234445,0.003758871938234445,0.003918945572106026,0.003918945572106026,0.003936096318592266,0.003936096318592266,0.004090453036968434,0.004090453036968434,0.0041904990581381725,0.0041904990581381725,0.0043191296567849785,0.0043191296567849785,0.004396308015973062,0.004396308015973062,0.0045964000583125384,0.0045964000583125384,0.004919405783803407,0.004919405783803407,0.004922264241551113,0.004922264241551113,0.004942273445785061,0.004942273445785061,0.005010876431730024,0.005010876431730024,0.005476805044606233,0.005476805044606233,0.005779801565863154,0.005779801565863154,0.005839829178564997,0.005839829178564997,0.0058598383827989445,0.0058598383827989445,0.005862696840546651,0.005862696840546651,0.005868413756042065,0.005868413756042065,0.0059741766927072166,0.0059741766927072166,0.005977035150454923,0.005977035150454923,0.0059884689814457505,0.0059884689814457505,0.006002761270184284,0.006002761270184284,0.006059930425138421,0.006059930425138421,0.006065647340633834,0.006065647340633834,0.006071364256129248,0.006071364256129248,0.0061228164955879705,0.0061228164955879705,0.00632862545342286,0.00632862545342286,0.006860298594496325,0.006860298594496325,0.007869334179436827,0.007869334179436827,0.007897918756913895,0.007897918756913895,0.00800939860907446,0.00800939860907446,0.008026549355560702,0.008026549355560702,0.00803512472880382,0.00803512472880382,0.008152321496459801,0.008152321496459801,0.00845531801771672,0.00845531801771672,0.008458176475464428,0.008458176475464428,0.012194180751717219,0.012194180751717219,0.01278302304774482,0.01278302304774482,0.012963105885850349,0.012963105885850349,0.014072187491960587,0.014072187491960587,0.014523823816098262,0.014523823816098262,0.014592426802043226,0.014592426802043226,0.023968168214521537,0.023968168214521537,0.02815009189941659,0.02815009189941659,0.028796103350398325,0.028796103350398325,0.032320581753320816,0.03232629866881623,0.032603569070343785,0.032609285985839204,0.03509328576859641,0.03509328576859641,0.038729244023679464,0.038734960939174876,0.04356289607505167,0.04356289607505167,0.049728589436855236,0.049728589436855236,0.055571277073167946,0.05557699398866336,0.06438676076709572,0.06438676076709572,0.06444678837979756,0.06444678837979756,0.07331086585543636,0.07331086585543636,0.07709260545565245,0.07709260545565245,0.08021404131614829,0.08021975823164369,0.08171759009144207,0.08172330700693747,0.09912845623272419,0.09912845623272419,0.1020698092551145,0.1020698092551145,0.10407358813625696,0.10407358813625696,0.10485680555912863,0.10485680555912863,0.10704066727837662,0.10704066727837662,0.10919880287789525,0.10919880287789525,0.11027929990652843,0.11028501682202385,0.11050225961084956,0.11050225961084956,0.11065661632922573,0.11066233324472115,0.11542452385240068,0.11542452385240068,0.11840589528325887,0.11840589528325887,0.1275386677871821,0.1275386677871821,0.1309402325069532,0.1309402325069532,0.13377010567718292,0.13377010567718292,0.13533368206517854,0.13533368206517854,0.14032740775042235,0.14032740775042235,0.14082763785627103,0.14082763785627103,0.1425884478288584,0.14259416474435382,0.1427828229557025,0.14278853987119788,0.14632731056285891,0.14632731056285891,0.14919434368380885,0.14920006059930424,0.15184413401593305,0.15184413401593305,0.15939903784312212,0.15940475475861754,0.16554186354294403,0.16554186354294403,0.16733697500850392,0.16733697500850392,0.17034693101683918,0.17034693101683918,0.17173042456672927,0.17173042456672927,0.17349409299706436,0.17349980991255978,0.18045443761273042,0.18045443761273042,0.18855530686973151,0.18855530686973151,0.18888402951071778,0.18888402951071778,0.19571574352773705,0.19571574352773705,0.20010061771271928,0.20010061771271928,0.20903043971655533,0.20903043971655533,0.21264638876740444,0.21264638876740444,0.22030705553125868,0.22030705553125868,0.22045569533413942,0.22045569533413942,0.22793627925988813,0.22794199617538352,0.2295713170915764,0.22957703400707183,0.2388212863631556,0.2388212863631556,0.24691929716240898,0.24691929716240898,0.2555546980182312,0.25556041493372667,0.2904993439839469,0.2904993439839469,0.3002695525656088,0.3002695525656088,0.30391408619393495,0.30391408619393495,0.304986007849325,0.3049917247648204,0.3093194297948485,0.3093251467103439,0.31164907285922955,0.31165478977472494,0.32220821577925846,0.32220821577925846,0.3329617338261314,0.3329617338261314,0.3331961273614434,0.3331961273614434,0.3400878689911645,0.3400878689911645,0.3572357570196576,0.35724147393515304,0.3620465414090482,0.3620522583245436,0.36339573346596576,0.36339573346596576,0.36486783920603477,0.36487355612153016,0.39107132137926304,0.39107132137926304,0.40318832377179215,0.4031940406872876,0.40406301184259047,0.40406872875808586,0.4079790989569488,0.4079848158724442,0.40869371339387545,0.4086994303093709,0.40916250046449937,0.4091682173799948,0.4121553057263484,0.41216102264184384,0.43233887588290615,0.43234459279840154,0.44642535566360525,0.44642535566360525,0.4593484431409877,0.4593484431409877,0.48554049148322515,0.48554049148322515,0.5683614462652821,0.5683614462652821,0.6148971383979488,0.6148971383979488,0.6462229768550676,0.6462229768550676,0.6957886342003036,0.6957886342003036,0.69888434394107,0.69888434394107,0.8471496888568741,0.8471496888568741,0.9924908314967742,1.0],\"xaxis\":\"x\",\"y\":[0.0,0.024844720496894408,0.09316770186335403,0.09316770186335403,0.13043478260869565,0.13043478260869565,0.16149068322981366,0.16149068322981366,0.19875776397515527,0.19875776397515527,0.20496894409937888,0.20496894409937888,0.21739130434782608,0.21739130434782608,0.22981366459627328,0.22981366459627328,0.2484472049689441,0.2484472049689441,0.2546583850931677,0.2546583850931677,0.2608695652173913,0.2608695652173913,0.2670807453416149,0.2670807453416149,0.2732919254658385,0.2732919254658385,0.2795031055900621,0.2795031055900621,0.2857142857142857,0.2857142857142857,0.2919254658385093,0.2919254658385093,0.2981366459627329,0.2981366459627329,0.30434782608695654,0.30434782608695654,0.3105590062111801,0.3105590062111801,0.3167701863354037,0.3167701863354037,0.32298136645962733,0.32298136645962733,0.32919254658385094,0.32919254658385094,0.33540372670807456,0.33540372670807456,0.3416149068322981,0.3416149068322981,0.34782608695652173,0.34782608695652173,0.35403726708074534,0.35403726708074534,0.36024844720496896,0.36024844720496896,0.36645962732919257,0.36645962732919257,0.37267080745341613,0.37267080745341613,0.37888198757763975,0.37888198757763975,0.38509316770186336,0.38509316770186336,0.391304347826087,0.391304347826087,0.39751552795031053,0.39751552795031053,0.40372670807453415,0.40372670807453415,0.40993788819875776,0.40993788819875776,0.4161490683229814,0.4161490683229814,0.422360248447205,0.422360248447205,0.42857142857142855,0.42857142857142855,0.43478260869565216,0.43478260869565216,0.4409937888198758,0.4409937888198758,0.4472049689440994,0.4472049689440994,0.453416149068323,0.453416149068323,0.45962732919254656,0.45962732919254656,0.4658385093167702,0.4658385093167702,0.4720496894409938,0.4720496894409938,0.484472049689441,0.484472049689441,0.4906832298136646,0.4906832298136646,0.4968944099378882,0.4968944099378882,0.5031055900621118,0.5031055900621118,0.5093167701863354,0.5093167701863354,0.515527950310559,0.515527950310559,0.5217391304347826,0.5217391304347826,0.5279503105590062,0.5279503105590062,0.5341614906832298,0.5341614906832298,0.5403726708074534,0.5403726708074534,0.546583850931677,0.546583850931677,0.5527950310559007,0.5527950310559007,0.5590062111801242,0.5590062111801242,0.5652173913043478,0.5652173913043478,0.5714285714285714,0.5714285714285714,0.577639751552795,0.577639751552795,0.5838509316770186,0.5838509316770186,0.5900621118012422,0.5900621118012422,0.5962732919254659,0.5962732919254659,0.6024844720496895,0.6024844720496895,0.6086956521739131,0.6086956521739131,0.6149068322981367,0.6149068322981367,0.6211180124223602,0.6211180124223602,0.6273291925465838,0.6273291925465838,0.6335403726708074,0.6335403726708074,0.639751552795031,0.639751552795031,0.6459627329192547,0.6459627329192547,0.6459627329192547,0.6459627329192547,0.6459627329192547,0.6459627329192547,0.6521739130434783,0.6521739130434783,0.6521739130434783,0.6521739130434783,0.6583850931677019,0.6583850931677019,0.6645962732919255,0.6645962732919255,0.6645962732919255,0.6645962732919255,0.6708074534161491,0.6708074534161491,0.6770186335403726,0.6770186335403726,0.6832298136645962,0.6832298136645962,0.6894409937888198,0.6894409937888198,0.6894409937888198,0.6894409937888198,0.6894409937888198,0.6894409937888198,0.6956521739130435,0.6956521739130435,0.7018633540372671,0.7018633540372671,0.7080745341614907,0.7080745341614907,0.7142857142857143,0.7142857142857143,0.7204968944099379,0.7204968944099379,0.7267080745341615,0.7267080745341615,0.7267080745341615,0.7267080745341615,0.7329192546583851,0.7329192546583851,0.7329192546583851,0.7329192546583851,0.7391304347826086,0.7391304347826086,0.7453416149068323,0.7453416149068323,0.7515527950310559,0.7515527950310559,0.7577639751552795,0.7577639751552795,0.7639751552795031,0.7639751552795031,0.7701863354037267,0.7701863354037267,0.7763975155279503,0.7763975155279503,0.782608695652174,0.782608695652174,0.782608695652174,0.782608695652174,0.782608695652174,0.782608695652174,0.7888198757763976,0.7888198757763976,0.7888198757763976,0.7888198757763976,0.7950310559006211,0.7950310559006211,0.7950310559006211,0.7950310559006211,0.8012422360248447,0.8012422360248447,0.8074534161490683,0.8074534161490683,0.8136645962732919,0.8136645962732919,0.8198757763975155,0.8198757763975155,0.8198757763975155,0.8198757763975155,0.8260869565217391,0.8260869565217391,0.8322981366459627,0.8322981366459627,0.8385093167701864,0.8385093167701864,0.84472049689441,0.84472049689441,0.8509316770186336,0.8509316770186336,0.8571428571428571,0.8571428571428571,0.8633540372670807,0.8633540372670807,0.8695652173913043,0.8695652173913043,0.8757763975155279,0.8757763975155279,0.8757763975155279,0.8757763975155279,0.8757763975155279,0.8757763975155279,0.8819875776397516,0.8819875776397516,0.8881987577639752,0.8881987577639752,0.8881987577639752,0.8881987577639752,0.8944099378881988,0.8944099378881988,0.9006211180124224,0.9006211180124224,0.906832298136646,0.906832298136646,0.906832298136646,0.906832298136646,0.906832298136646,0.906832298136646,0.906832298136646,0.906832298136646,0.9130434782608695,0.9130434782608695,0.9192546583850931,0.9192546583850931,0.9254658385093167,0.9254658385093167,0.9316770186335404,0.9316770186335404,0.9316770186335404,0.9316770186335404,0.9316770186335404,0.9316770186335404,0.937888198757764,0.937888198757764,0.937888198757764,0.937888198757764,0.9440993788819876,0.9440993788819876,0.9440993788819876,0.9440993788819876,0.9440993788819876,0.9440993788819876,0.9440993788819876,0.9440993788819876,0.9440993788819876,0.9440993788819876,0.9440993788819876,0.9440993788819876,0.9440993788819876,0.9440993788819876,0.9440993788819876,0.9440993788819876,0.9503105590062112,0.9503105590062112,0.9565217391304348,0.9565217391304348,0.9627329192546584,0.9627329192546584,0.968944099378882,0.968944099378882,0.9751552795031055,0.9751552795031055,0.9813664596273292,0.9813664596273292,0.9875776397515528,0.9875776397515528,0.9937888198757764,0.9937888198757764,1.0,1.0,1.0],\"yaxis\":\"y\",\"type\":\"scatter\"}],                        {\"template\":{\"data\":{\"histogram2dcontour\":[{\"type\":\"histogram2dcontour\",\"colorbar\":{\"outlinewidth\":0,\"ticks\":\"\"},\"colorscale\":[[0.0,\"#0d0887\"],[0.1111111111111111,\"#46039f\"],[0.2222222222222222,\"#7201a8\"],[0.3333333333333333,\"#9c179e\"],[0.4444444444444444,\"#bd3786\"],[0.5555555555555556,\"#d8576b\"],[0.6666666666666666,\"#ed7953\"],[0.7777777777777778,\"#fb9f3a\"],[0.8888888888888888,\"#fdca26\"],[1.0,\"#f0f921\"]]}],\"choropleth\":[{\"type\":\"choropleth\",\"colorbar\":{\"outlinewidth\":0,\"ticks\":\"\"}}],\"histogram2d\":[{\"type\":\"histogram2d\",\"colorbar\":{\"outlinewidth\":0,\"ticks\":\"\"},\"colorscale\":[[0.0,\"#0d0887\"],[0.1111111111111111,\"#46039f\"],[0.2222222222222222,\"#7201a8\"],[0.3333333333333333,\"#9c179e\"],[0.4444444444444444,\"#bd3786\"],[0.5555555555555556,\"#d8576b\"],[0.6666666666666666,\"#ed7953\"],[0.7777777777777778,\"#fb9f3a\"],[0.8888888888888888,\"#fdca26\"],[1.0,\"#f0f921\"]]}],\"heatmap\":[{\"type\":\"heatmap\",\"colorbar\":{\"outlinewidth\":0,\"ticks\":\"\"},\"colorscale\":[[0.0,\"#0d0887\"],[0.1111111111111111,\"#46039f\"],[0.2222222222222222,\"#7201a8\"],[0.3333333333333333,\"#9c179e\"],[0.4444444444444444,\"#bd3786\"],[0.5555555555555556,\"#d8576b\"],[0.6666666666666666,\"#ed7953\"],[0.7777777777777778,\"#fb9f3a\"],[0.8888888888888888,\"#fdca26\"],[1.0,\"#f0f921\"]]}],\"heatmapgl\":[{\"type\":\"heatmapgl\",\"colorbar\":{\"outlinewidth\":0,\"ticks\":\"\"},\"colorscale\":[[0.0,\"#0d0887\"],[0.1111111111111111,\"#46039f\"],[0.2222222222222222,\"#7201a8\"],[0.3333333333333333,\"#9c179e\"],[0.4444444444444444,\"#bd3786\"],[0.5555555555555556,\"#d8576b\"],[0.6666666666666666,\"#ed7953\"],[0.7777777777777778,\"#fb9f3a\"],[0.8888888888888888,\"#fdca26\"],[1.0,\"#f0f921\"]]}],\"contourcarpet\":[{\"type\":\"contourcarpet\",\"colorbar\":{\"outlinewidth\":0,\"ticks\":\"\"}}],\"contour\":[{\"type\":\"contour\",\"colorbar\":{\"outlinewidth\":0,\"ticks\":\"\"},\"colorscale\":[[0.0,\"#0d0887\"],[0.1111111111111111,\"#46039f\"],[0.2222222222222222,\"#7201a8\"],[0.3333333333333333,\"#9c179e\"],[0.4444444444444444,\"#bd3786\"],[0.5555555555555556,\"#d8576b\"],[0.6666666666666666,\"#ed7953\"],[0.7777777777777778,\"#fb9f3a\"],[0.8888888888888888,\"#fdca26\"],[1.0,\"#f0f921\"]]}],\"surface\":[{\"type\":\"surface\",\"colorbar\":{\"outlinewidth\":0,\"ticks\":\"\"},\"colorscale\":[[0.0,\"#0d0887\"],[0.1111111111111111,\"#46039f\"],[0.2222222222222222,\"#7201a8\"],[0.3333333333333333,\"#9c179e\"],[0.4444444444444444,\"#bd3786\"],[0.5555555555555556,\"#d8576b\"],[0.6666666666666666,\"#ed7953\"],[0.7777777777777778,\"#fb9f3a\"],[0.8888888888888888,\"#fdca26\"],[1.0,\"#f0f921\"]]}],\"mesh3d\":[{\"type\":\"mesh3d\",\"colorbar\":{\"outlinewidth\":0,\"ticks\":\"\"}}],\"scatter\":[{\"fillpattern\":{\"fillmode\":\"overlay\",\"size\":10,\"solidity\":0.2},\"type\":\"scatter\"}],\"parcoords\":[{\"type\":\"parcoords\",\"line\":{\"colorbar\":{\"outlinewidth\":0,\"ticks\":\"\"}}}],\"scatterpolargl\":[{\"type\":\"scatterpolargl\",\"marker\":{\"colorbar\":{\"outlinewidth\":0,\"ticks\":\"\"}}}],\"bar\":[{\"error_x\":{\"color\":\"#2a3f5f\"},\"error_y\":{\"color\":\"#2a3f5f\"},\"marker\":{\"line\":{\"color\":\"#E5ECF6\",\"width\":0.5},\"pattern\":{\"fillmode\":\"overlay\",\"size\":10,\"solidity\":0.2}},\"type\":\"bar\"}],\"scattergeo\":[{\"type\":\"scattergeo\",\"marker\":{\"colorbar\":{\"outlinewidth\":0,\"ticks\":\"\"}}}],\"scatterpolar\":[{\"type\":\"scatterpolar\",\"marker\":{\"colorbar\":{\"outlinewidth\":0,\"ticks\":\"\"}}}],\"histogram\":[{\"marker\":{\"pattern\":{\"fillmode\":\"overlay\",\"size\":10,\"solidity\":0.2}},\"type\":\"histogram\"}],\"scattergl\":[{\"type\":\"scattergl\",\"marker\":{\"colorbar\":{\"outlinewidth\":0,\"ticks\":\"\"}}}],\"scatter3d\":[{\"type\":\"scatter3d\",\"line\":{\"colorbar\":{\"outlinewidth\":0,\"ticks\":\"\"}},\"marker\":{\"colorbar\":{\"outlinewidth\":0,\"ticks\":\"\"}}}],\"scattermapbox\":[{\"type\":\"scattermapbox\",\"marker\":{\"colorbar\":{\"outlinewidth\":0,\"ticks\":\"\"}}}],\"scatterternary\":[{\"type\":\"scatterternary\",\"marker\":{\"colorbar\":{\"outlinewidth\":0,\"ticks\":\"\"}}}],\"scattercarpet\":[{\"type\":\"scattercarpet\",\"marker\":{\"colorbar\":{\"outlinewidth\":0,\"ticks\":\"\"}}}],\"carpet\":[{\"aaxis\":{\"endlinecolor\":\"#2a3f5f\",\"gridcolor\":\"white\",\"linecolor\":\"white\",\"minorgridcolor\":\"white\",\"startlinecolor\":\"#2a3f5f\"},\"baxis\":{\"endlinecolor\":\"#2a3f5f\",\"gridcolor\":\"white\",\"linecolor\":\"white\",\"minorgridcolor\":\"white\",\"startlinecolor\":\"#2a3f5f\"},\"type\":\"carpet\"}],\"table\":[{\"cells\":{\"fill\":{\"color\":\"#EBF0F8\"},\"line\":{\"color\":\"white\"}},\"header\":{\"fill\":{\"color\":\"#C8D4E3\"},\"line\":{\"color\":\"white\"}},\"type\":\"table\"}],\"barpolar\":[{\"marker\":{\"line\":{\"color\":\"#E5ECF6\",\"width\":0.5},\"pattern\":{\"fillmode\":\"overlay\",\"size\":10,\"solidity\":0.2}},\"type\":\"barpolar\"}],\"pie\":[{\"automargin\":true,\"type\":\"pie\"}]},\"layout\":{\"autotypenumbers\":\"strict\",\"colorway\":[\"#636efa\",\"#EF553B\",\"#00cc96\",\"#ab63fa\",\"#FFA15A\",\"#19d3f3\",\"#FF6692\",\"#B6E880\",\"#FF97FF\",\"#FECB52\"],\"font\":{\"color\":\"#2a3f5f\"},\"hovermode\":\"closest\",\"hoverlabel\":{\"align\":\"left\"},\"paper_bgcolor\":\"white\",\"plot_bgcolor\":\"#E5ECF6\",\"polar\":{\"bgcolor\":\"#E5ECF6\",\"angularaxis\":{\"gridcolor\":\"white\",\"linecolor\":\"white\",\"ticks\":\"\"},\"radialaxis\":{\"gridcolor\":\"white\",\"linecolor\":\"white\",\"ticks\":\"\"}},\"ternary\":{\"bgcolor\":\"#E5ECF6\",\"aaxis\":{\"gridcolor\":\"white\",\"linecolor\":\"white\",\"ticks\":\"\"},\"baxis\":{\"gridcolor\":\"white\",\"linecolor\":\"white\",\"ticks\":\"\"},\"caxis\":{\"gridcolor\":\"white\",\"linecolor\":\"white\",\"ticks\":\"\"}},\"coloraxis\":{\"colorbar\":{\"outlinewidth\":0,\"ticks\":\"\"}},\"colorscale\":{\"sequential\":[[0.0,\"#0d0887\"],[0.1111111111111111,\"#46039f\"],[0.2222222222222222,\"#7201a8\"],[0.3333333333333333,\"#9c179e\"],[0.4444444444444444,\"#bd3786\"],[0.5555555555555556,\"#d8576b\"],[0.6666666666666666,\"#ed7953\"],[0.7777777777777778,\"#fb9f3a\"],[0.8888888888888888,\"#fdca26\"],[1.0,\"#f0f921\"]],\"sequentialminus\":[[0.0,\"#0d0887\"],[0.1111111111111111,\"#46039f\"],[0.2222222222222222,\"#7201a8\"],[0.3333333333333333,\"#9c179e\"],[0.4444444444444444,\"#bd3786\"],[0.5555555555555556,\"#d8576b\"],[0.6666666666666666,\"#ed7953\"],[0.7777777777777778,\"#fb9f3a\"],[0.8888888888888888,\"#fdca26\"],[1.0,\"#f0f921\"]],\"diverging\":[[0,\"#8e0152\"],[0.1,\"#c51b7d\"],[0.2,\"#de77ae\"],[0.3,\"#f1b6da\"],[0.4,\"#fde0ef\"],[0.5,\"#f7f7f7\"],[0.6,\"#e6f5d0\"],[0.7,\"#b8e186\"],[0.8,\"#7fbc41\"],[0.9,\"#4d9221\"],[1,\"#276419\"]]},\"xaxis\":{\"gridcolor\":\"white\",\"linecolor\":\"white\",\"ticks\":\"\",\"title\":{\"standoff\":15},\"zerolinecolor\":\"white\",\"automargin\":true,\"zerolinewidth\":2},\"yaxis\":{\"gridcolor\":\"white\",\"linecolor\":\"white\",\"ticks\":\"\",\"title\":{\"standoff\":15},\"zerolinecolor\":\"white\",\"automargin\":true,\"zerolinewidth\":2},\"scene\":{\"xaxis\":{\"backgroundcolor\":\"#E5ECF6\",\"gridcolor\":\"white\",\"linecolor\":\"white\",\"showbackground\":true,\"ticks\":\"\",\"zerolinecolor\":\"white\",\"gridwidth\":2},\"yaxis\":{\"backgroundcolor\":\"#E5ECF6\",\"gridcolor\":\"white\",\"linecolor\":\"white\",\"showbackground\":true,\"ticks\":\"\",\"zerolinecolor\":\"white\",\"gridwidth\":2},\"zaxis\":{\"backgroundcolor\":\"#E5ECF6\",\"gridcolor\":\"white\",\"linecolor\":\"white\",\"showbackground\":true,\"ticks\":\"\",\"zerolinecolor\":\"white\",\"gridwidth\":2}},\"shapedefaults\":{\"line\":{\"color\":\"#2a3f5f\"}},\"annotationdefaults\":{\"arrowcolor\":\"#2a3f5f\",\"arrowhead\":0,\"arrowwidth\":1},\"geo\":{\"bgcolor\":\"white\",\"landcolor\":\"#E5ECF6\",\"subunitcolor\":\"white\",\"showland\":true,\"showlakes\":true,\"lakecolor\":\"white\"},\"title\":{\"x\":0.05},\"mapbox\":{\"style\":\"light\"}}},\"xaxis\":{\"anchor\":\"y\",\"domain\":[0.0,1.0],\"title\":{\"text\":\"x\"}},\"yaxis\":{\"anchor\":\"x\",\"domain\":[0.0,1.0],\"title\":{\"text\":\"y\"}},\"legend\":{\"tracegroupgap\":0},\"margin\":{\"t\":60}},                        {\"responsive\": true}                    ).then(function(){\n",
       "                            \n",
       "var gd = document.getElementById('ab1c4f9c-1425-4b55-b196-61f03b030409');\n",
       "var x = new MutationObserver(function (mutations, observer) {{\n",
       "        var display = window.getComputedStyle(gd).display;\n",
       "        if (!display || display === 'none') {{\n",
       "            console.log([gd, 'removed!']);\n",
       "            Plotly.purge(gd);\n",
       "            observer.disconnect();\n",
       "        }}\n",
       "}});\n",
       "\n",
       "// Listen for the removal of the full notebook cells\n",
       "var notebookContainer = gd.closest('#notebook-container');\n",
       "if (notebookContainer) {{\n",
       "    x.observe(notebookContainer, {childList: true});\n",
       "}}\n",
       "\n",
       "// Listen for the clearing of the current output cell\n",
       "var outputEl = gd.closest('.output');\n",
       "if (outputEl) {{\n",
       "    x.observe(outputEl, {childList: true});\n",
       "}}\n",
       "\n",
       "                        })                };                });            </script>        </div>"
      ]
     },
     "metadata": {},
     "output_type": "display_data"
    }
   ],
   "source": [
    "px.scatter(x = fpr,y = tpr)"
   ]
  },
  {
   "cell_type": "markdown",
   "id": "6e54da90",
   "metadata": {},
   "source": [
    "## Prediction on Single Row"
   ]
  },
  {
   "cell_type": "code",
   "execution_count": 97,
   "id": "151f34e3",
   "metadata": {
    "scrolled": true
   },
   "outputs": [
    {
     "data": {
      "text/plain": [
       "11"
      ]
     },
     "execution_count": 97,
     "metadata": {},
     "output_type": "execute_result"
    }
   ],
   "source": [
    "logistic_clf.n_features_in_"
   ]
  },
  {
   "cell_type": "code",
   "execution_count": 98,
   "id": "7060ebb0",
   "metadata": {},
   "outputs": [
    {
     "data": {
      "text/plain": [
       "array([[-6.70762143e-01, -1.61105700e-05,  2.50941991e-05,\n",
       "        -6.15274045e-05,  5.59078793e-07, -1.08807533e-06,\n",
       "        -2.81896036e-05, -2.99625612e-03, -7.96075950e-04,\n",
       "        -4.59419372e-02,  1.20140332e-04]])"
      ]
     },
     "execution_count": 98,
     "metadata": {},
     "output_type": "execute_result"
    }
   ],
   "source": [
    "logistic_clf.coef_"
   ]
  },
  {
   "cell_type": "code",
   "execution_count": 99,
   "id": "78fe1d9c",
   "metadata": {
    "scrolled": true
   },
   "outputs": [
    {
     "data": {
      "text/plain": [
       "['step',\n",
       " 'amount',\n",
       " 'oldbalanceOrg',\n",
       " 'newbalanceOrig',\n",
       " 'oldbalanceDest',\n",
       " 'newbalanceDest',\n",
       " 'types_CASH_IN',\n",
       " 'types_CASH_OUT',\n",
       " 'types_DEBIT',\n",
       " 'types_PAYMENT',\n",
       " 'types_TRANSFER']"
      ]
     },
     "execution_count": 99,
     "metadata": {},
     "output_type": "execute_result"
    }
   ],
   "source": [
    "column_names = x.columns.tolist()\n",
    "column_names"
   ]
  },
  {
   "cell_type": "code",
   "execution_count": 116,
   "id": "20301a5d",
   "metadata": {
    "scrolled": true
   },
   "outputs": [
    {
     "name": "stdout",
     "output_type": "stream",
     "text": [
      "Predicted Class by using 0.5 threshold is : Class 1\n"
     ]
    }
   ],
   "source": [
    "step = 19\n",
    "amount = 10000000\n",
    "oldbalanceOrg = 10000000\n",
    "newbalanceOrig = 0\n",
    "oldbalanceDest = 504326.62\n",
    "newbalanceDest = 10342417.90\n",
    "types = 'CASH_OUT'\n",
    "\n",
    "types ='types_'+types\n",
    "\n",
    "types_index = column_names.index(types)\n",
    "types_index\n",
    "\n",
    "test_array = np.zeros([1,logistic_clf.n_features_in_])\n",
    "test_array[0,0] = step\n",
    "test_array[0,1] = amount\n",
    "test_array[0,2] = oldbalanceOrg\n",
    "test_array[0,3] = newbalanceOrig\n",
    "test_array[0,4] = oldbalanceDest\n",
    "test_array[0,5] = newbalanceDest\n",
    "test_array[0,types_index] = 1\n",
    "\n",
    "pred_class = logistic_clf.predict(test_array)[0]\n",
    "\n",
    "print(\"Predicted Class by using 0.5 threshold is : Class\",pred_class)\n"
   ]
  },
  {
   "cell_type": "code",
   "execution_count": 117,
   "id": "d52278b7",
   "metadata": {},
   "outputs": [
    {
     "name": "stdout",
     "output_type": "stream",
     "text": [
      "Predicted Class by using 0.5 threshold is: Not Fraud\n"
     ]
    }
   ],
   "source": [
    "def get_pred_fraud(test_array):\n",
    "    pred_class = logistic_clf.predict(test_array)[0]\n",
    "\n",
    "    if pred_class == \"class 1\":\n",
    "        pred_fraud = \"Fraud\"\n",
    "    else:\n",
    "        pred_fraud = \"Not Fraud\"\n",
    "\n",
    "    return pred_fraud\n",
    "\n",
    "# Call the function and store the result in a variable\n",
    "result = get_pred_fraud(test_array)\n",
    "\n",
    "# Print or use the result as needed\n",
    "print(\"Predicted Class by using 0.5 threshold is:\", result)\n"
   ]
  },
  {
   "cell_type": "code",
   "execution_count": 101,
   "id": "b63dc7fc",
   "metadata": {
    "scrolled": true
   },
   "outputs": [
    {
     "data": {
      "text/html": [
       "<div>\n",
       "<style scoped>\n",
       "    .dataframe tbody tr th:only-of-type {\n",
       "        vertical-align: middle;\n",
       "    }\n",
       "\n",
       "    .dataframe tbody tr th {\n",
       "        vertical-align: top;\n",
       "    }\n",
       "\n",
       "    .dataframe thead th {\n",
       "        text-align: right;\n",
       "    }\n",
       "</style>\n",
       "<table border=\"1\" class=\"dataframe\">\n",
       "  <thead>\n",
       "    <tr style=\"text-align: right;\">\n",
       "      <th></th>\n",
       "      <th>step</th>\n",
       "      <th>amount</th>\n",
       "      <th>nameOrig</th>\n",
       "      <th>oldbalanceOrg</th>\n",
       "      <th>newbalanceOrig</th>\n",
       "      <th>nameDest</th>\n",
       "      <th>oldbalanceDest</th>\n",
       "      <th>newbalanceDest</th>\n",
       "      <th>isFraud</th>\n",
       "      <th>types_CASH_IN</th>\n",
       "      <th>types_CASH_OUT</th>\n",
       "      <th>types_DEBIT</th>\n",
       "      <th>types_PAYMENT</th>\n",
       "      <th>types_TRANSFER</th>\n",
       "    </tr>\n",
       "  </thead>\n",
       "  <tbody>\n",
       "    <tr>\n",
       "      <th>2</th>\n",
       "      <td>1</td>\n",
       "      <td>181.00</td>\n",
       "      <td>C1305486145</td>\n",
       "      <td>181.00</td>\n",
       "      <td>0.0</td>\n",
       "      <td>C553264065</td>\n",
       "      <td>0.00</td>\n",
       "      <td>0.00</td>\n",
       "      <td>1</td>\n",
       "      <td>0</td>\n",
       "      <td>0</td>\n",
       "      <td>0</td>\n",
       "      <td>0</td>\n",
       "      <td>1</td>\n",
       "    </tr>\n",
       "    <tr>\n",
       "      <th>3</th>\n",
       "      <td>1</td>\n",
       "      <td>181.00</td>\n",
       "      <td>C840083671</td>\n",
       "      <td>181.00</td>\n",
       "      <td>0.0</td>\n",
       "      <td>C38997010</td>\n",
       "      <td>21182.00</td>\n",
       "      <td>0.00</td>\n",
       "      <td>1</td>\n",
       "      <td>0</td>\n",
       "      <td>1</td>\n",
       "      <td>0</td>\n",
       "      <td>0</td>\n",
       "      <td>0</td>\n",
       "    </tr>\n",
       "    <tr>\n",
       "      <th>251</th>\n",
       "      <td>1</td>\n",
       "      <td>2806.00</td>\n",
       "      <td>C1420196421</td>\n",
       "      <td>2806.00</td>\n",
       "      <td>0.0</td>\n",
       "      <td>C972765878</td>\n",
       "      <td>0.00</td>\n",
       "      <td>0.00</td>\n",
       "      <td>1</td>\n",
       "      <td>0</td>\n",
       "      <td>0</td>\n",
       "      <td>0</td>\n",
       "      <td>0</td>\n",
       "      <td>1</td>\n",
       "    </tr>\n",
       "    <tr>\n",
       "      <th>252</th>\n",
       "      <td>1</td>\n",
       "      <td>2806.00</td>\n",
       "      <td>C2101527076</td>\n",
       "      <td>2806.00</td>\n",
       "      <td>0.0</td>\n",
       "      <td>C1007251739</td>\n",
       "      <td>26202.00</td>\n",
       "      <td>0.00</td>\n",
       "      <td>1</td>\n",
       "      <td>0</td>\n",
       "      <td>1</td>\n",
       "      <td>0</td>\n",
       "      <td>0</td>\n",
       "      <td>0</td>\n",
       "    </tr>\n",
       "    <tr>\n",
       "      <th>680</th>\n",
       "      <td>1</td>\n",
       "      <td>20128.00</td>\n",
       "      <td>C137533655</td>\n",
       "      <td>20128.00</td>\n",
       "      <td>0.0</td>\n",
       "      <td>C1848415041</td>\n",
       "      <td>0.00</td>\n",
       "      <td>0.00</td>\n",
       "      <td>1</td>\n",
       "      <td>0</td>\n",
       "      <td>0</td>\n",
       "      <td>0</td>\n",
       "      <td>0</td>\n",
       "      <td>1</td>\n",
       "    </tr>\n",
       "    <tr>\n",
       "      <th>...</th>\n",
       "      <td>...</td>\n",
       "      <td>...</td>\n",
       "      <td>...</td>\n",
       "      <td>...</td>\n",
       "      <td>...</td>\n",
       "      <td>...</td>\n",
       "      <td>...</td>\n",
       "      <td>...</td>\n",
       "      <td>...</td>\n",
       "      <td>...</td>\n",
       "      <td>...</td>\n",
       "      <td>...</td>\n",
       "      <td>...</td>\n",
       "      <td>...</td>\n",
       "    </tr>\n",
       "    <tr>\n",
       "      <th>481251</th>\n",
       "      <td>19</td>\n",
       "      <td>10000000.00</td>\n",
       "      <td>C2050703310</td>\n",
       "      <td>10000000.00</td>\n",
       "      <td>0.0</td>\n",
       "      <td>C1622860679</td>\n",
       "      <td>504326.62</td>\n",
       "      <td>10342417.90</td>\n",
       "      <td>1</td>\n",
       "      <td>0</td>\n",
       "      <td>1</td>\n",
       "      <td>0</td>\n",
       "      <td>0</td>\n",
       "      <td>0</td>\n",
       "    </tr>\n",
       "    <tr>\n",
       "      <th>481252</th>\n",
       "      <td>19</td>\n",
       "      <td>1861008.32</td>\n",
       "      <td>C1990303942</td>\n",
       "      <td>1861008.32</td>\n",
       "      <td>0.0</td>\n",
       "      <td>C1308678191</td>\n",
       "      <td>0.00</td>\n",
       "      <td>0.00</td>\n",
       "      <td>1</td>\n",
       "      <td>0</td>\n",
       "      <td>0</td>\n",
       "      <td>0</td>\n",
       "      <td>0</td>\n",
       "      <td>1</td>\n",
       "    </tr>\n",
       "    <tr>\n",
       "      <th>481253</th>\n",
       "      <td>19</td>\n",
       "      <td>1861008.32</td>\n",
       "      <td>C1718961034</td>\n",
       "      <td>1861008.32</td>\n",
       "      <td>0.0</td>\n",
       "      <td>C714051433</td>\n",
       "      <td>0.00</td>\n",
       "      <td>1789942.62</td>\n",
       "      <td>1</td>\n",
       "      <td>0</td>\n",
       "      <td>1</td>\n",
       "      <td>0</td>\n",
       "      <td>0</td>\n",
       "      <td>0</td>\n",
       "    </tr>\n",
       "    <tr>\n",
       "      <th>499609</th>\n",
       "      <td>20</td>\n",
       "      <td>16614.82</td>\n",
       "      <td>C2080146129</td>\n",
       "      <td>16614.82</td>\n",
       "      <td>0.0</td>\n",
       "      <td>C748889213</td>\n",
       "      <td>0.00</td>\n",
       "      <td>0.00</td>\n",
       "      <td>1</td>\n",
       "      <td>0</td>\n",
       "      <td>0</td>\n",
       "      <td>0</td>\n",
       "      <td>0</td>\n",
       "      <td>1</td>\n",
       "    </tr>\n",
       "    <tr>\n",
       "      <th>499610</th>\n",
       "      <td>20</td>\n",
       "      <td>16614.82</td>\n",
       "      <td>C530844914</td>\n",
       "      <td>16614.82</td>\n",
       "      <td>0.0</td>\n",
       "      <td>C1614121155</td>\n",
       "      <td>904409.29</td>\n",
       "      <td>921024.11</td>\n",
       "      <td>1</td>\n",
       "      <td>0</td>\n",
       "      <td>1</td>\n",
       "      <td>0</td>\n",
       "      <td>0</td>\n",
       "      <td>0</td>\n",
       "    </tr>\n",
       "  </tbody>\n",
       "</table>\n",
       "<p>233 rows × 14 columns</p>\n",
       "</div>"
      ],
      "text/plain": [
       "        step       amount     nameOrig  oldbalanceOrg  newbalanceOrig  \\\n",
       "2          1       181.00  C1305486145         181.00             0.0   \n",
       "3          1       181.00   C840083671         181.00             0.0   \n",
       "251        1      2806.00  C1420196421        2806.00             0.0   \n",
       "252        1      2806.00  C2101527076        2806.00             0.0   \n",
       "680        1     20128.00   C137533655       20128.00             0.0   \n",
       "...      ...          ...          ...            ...             ...   \n",
       "481251    19  10000000.00  C2050703310    10000000.00             0.0   \n",
       "481252    19   1861008.32  C1990303942     1861008.32             0.0   \n",
       "481253    19   1861008.32  C1718961034     1861008.32             0.0   \n",
       "499609    20     16614.82  C2080146129       16614.82             0.0   \n",
       "499610    20     16614.82   C530844914       16614.82             0.0   \n",
       "\n",
       "           nameDest  oldbalanceDest  newbalanceDest  isFraud  types_CASH_IN  \\\n",
       "2        C553264065            0.00            0.00        1              0   \n",
       "3         C38997010        21182.00            0.00        1              0   \n",
       "251      C972765878            0.00            0.00        1              0   \n",
       "252     C1007251739        26202.00            0.00        1              0   \n",
       "680     C1848415041            0.00            0.00        1              0   \n",
       "...             ...             ...             ...      ...            ...   \n",
       "481251  C1622860679       504326.62     10342417.90        1              0   \n",
       "481252  C1308678191            0.00            0.00        1              0   \n",
       "481253   C714051433            0.00      1789942.62        1              0   \n",
       "499609   C748889213            0.00            0.00        1              0   \n",
       "499610  C1614121155       904409.29       921024.11        1              0   \n",
       "\n",
       "        types_CASH_OUT  types_DEBIT  types_PAYMENT  types_TRANSFER  \n",
       "2                    0            0              0               1  \n",
       "3                    1            0              0               0  \n",
       "251                  0            0              0               1  \n",
       "252                  1            0              0               0  \n",
       "680                  0            0              0               1  \n",
       "...                ...          ...            ...             ...  \n",
       "481251               1            0              0               0  \n",
       "481252               0            0              0               1  \n",
       "481253               1            0              0               0  \n",
       "499609               0            0              0               1  \n",
       "499610               1            0              0               0  \n",
       "\n",
       "[233 rows x 14 columns]"
      ]
     },
     "execution_count": 101,
     "metadata": {},
     "output_type": "execute_result"
    }
   ],
   "source": [
    "grouped_data = df.groupby('isFraud')\n",
    "fraud_group = grouped_data.get_group(1)\n",
    "fraud_group"
   ]
  },
  {
   "cell_type": "code",
   "execution_count": 102,
   "id": "7abc2705",
   "metadata": {},
   "outputs": [],
   "source": [
    "with open('logistic_classification.pkl','wb') as f:\n",
    "    pickle.dump(logistic_clf, f)"
   ]
  },
  {
   "cell_type": "code",
   "execution_count": 103,
   "id": "be2ee469",
   "metadata": {},
   "outputs": [],
   "source": [
    "project_data = {\"Column Names\" : column_names}\n",
    "\n",
    "with open('proj_data.json','w') as f:\n",
    "    json.dump(project_data, f)"
   ]
  }
 ],
 "metadata": {
  "kernelspec": {
   "display_name": "Python 3 (ipykernel)",
   "language": "python",
   "name": "python3"
  },
  "language_info": {
   "codemirror_mode": {
    "name": "ipython",
    "version": 3
   },
   "file_extension": ".py",
   "mimetype": "text/x-python",
   "name": "python",
   "nbconvert_exporter": "python",
   "pygments_lexer": "ipython3",
   "version": "3.9.13"
  }
 },
 "nbformat": 4,
 "nbformat_minor": 5
}
