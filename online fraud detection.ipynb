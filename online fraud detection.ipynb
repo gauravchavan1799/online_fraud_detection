{
 "cells": [
  {
   "cell_type": "code",
   "execution_count": 31,
   "id": "11e8ab60",
   "metadata": {},
   "outputs": [],
   "source": [
    "import pandas as pd\n",
    "import numpy as np\n",
    "\n",
    "from sklearn.model_selection import train_test_split\n",
    "from sklearn.linear_model import LogisticRegression\n",
    "from sklearn.metrics import accuracy_score, classification_report,confusion_matrix\n",
    "from sklearn.metrics import roc_auc_score, roc_curve\n",
    "import matplotlib.pyplot as plt\n",
    "import seaborn as sns\n",
    "from sklearn.metrics import mean_absolute_error, mean_squared_error, r2_score\n",
    "import plotly.express as px\n",
    "\n",
    "import pickle\n",
    "import json\n",
    "\n",
    "import warnings\n",
    "warnings.filterwarnings('ignore')"
   ]
  },
  {
   "cell_type": "code",
   "execution_count": 32,
   "id": "730fc7f5",
   "metadata": {
    "scrolled": false
   },
   "outputs": [
    {
     "data": {
      "text/html": [
       "<div>\n",
       "<style scoped>\n",
       "    .dataframe tbody tr th:only-of-type {\n",
       "        vertical-align: middle;\n",
       "    }\n",
       "\n",
       "    .dataframe tbody tr th {\n",
       "        vertical-align: top;\n",
       "    }\n",
       "\n",
       "    .dataframe thead th {\n",
       "        text-align: right;\n",
       "    }\n",
       "</style>\n",
       "<table border=\"1\" class=\"dataframe\">\n",
       "  <thead>\n",
       "    <tr style=\"text-align: right;\">\n",
       "      <th></th>\n",
       "      <th>step</th>\n",
       "      <th>type</th>\n",
       "      <th>amount</th>\n",
       "      <th>nameOrig</th>\n",
       "      <th>oldbalanceOrg</th>\n",
       "      <th>newbalanceOrig</th>\n",
       "      <th>nameDest</th>\n",
       "      <th>oldbalanceDest</th>\n",
       "      <th>newbalanceDest</th>\n",
       "      <th>isFraud</th>\n",
       "    </tr>\n",
       "  </thead>\n",
       "  <tbody>\n",
       "    <tr>\n",
       "      <th>0</th>\n",
       "      <td>1</td>\n",
       "      <td>PAYMENT</td>\n",
       "      <td>9839.64</td>\n",
       "      <td>C1231006815</td>\n",
       "      <td>170136.0</td>\n",
       "      <td>160296.36</td>\n",
       "      <td>M1979787155</td>\n",
       "      <td>0.00</td>\n",
       "      <td>0.00</td>\n",
       "      <td>0</td>\n",
       "    </tr>\n",
       "    <tr>\n",
       "      <th>1</th>\n",
       "      <td>1</td>\n",
       "      <td>PAYMENT</td>\n",
       "      <td>1864.28</td>\n",
       "      <td>C1666544295</td>\n",
       "      <td>21249.0</td>\n",
       "      <td>19384.72</td>\n",
       "      <td>M2044282225</td>\n",
       "      <td>0.00</td>\n",
       "      <td>0.00</td>\n",
       "      <td>0</td>\n",
       "    </tr>\n",
       "    <tr>\n",
       "      <th>2</th>\n",
       "      <td>1</td>\n",
       "      <td>TRANSFER</td>\n",
       "      <td>181.00</td>\n",
       "      <td>C1305486145</td>\n",
       "      <td>181.0</td>\n",
       "      <td>0.00</td>\n",
       "      <td>C553264065</td>\n",
       "      <td>0.00</td>\n",
       "      <td>0.00</td>\n",
       "      <td>1</td>\n",
       "    </tr>\n",
       "    <tr>\n",
       "      <th>3</th>\n",
       "      <td>1</td>\n",
       "      <td>CASH_OUT</td>\n",
       "      <td>181.00</td>\n",
       "      <td>C840083671</td>\n",
       "      <td>181.0</td>\n",
       "      <td>0.00</td>\n",
       "      <td>C38997010</td>\n",
       "      <td>21182.00</td>\n",
       "      <td>0.00</td>\n",
       "      <td>1</td>\n",
       "    </tr>\n",
       "    <tr>\n",
       "      <th>4</th>\n",
       "      <td>1</td>\n",
       "      <td>PAYMENT</td>\n",
       "      <td>11668.14</td>\n",
       "      <td>C2048537720</td>\n",
       "      <td>41554.0</td>\n",
       "      <td>29885.86</td>\n",
       "      <td>M1230701703</td>\n",
       "      <td>0.00</td>\n",
       "      <td>0.00</td>\n",
       "      <td>0</td>\n",
       "    </tr>\n",
       "    <tr>\n",
       "      <th>...</th>\n",
       "      <td>...</td>\n",
       "      <td>...</td>\n",
       "      <td>...</td>\n",
       "      <td>...</td>\n",
       "      <td>...</td>\n",
       "      <td>...</td>\n",
       "      <td>...</td>\n",
       "      <td>...</td>\n",
       "      <td>...</td>\n",
       "      <td>...</td>\n",
       "    </tr>\n",
       "    <tr>\n",
       "      <th>499995</th>\n",
       "      <td>20</td>\n",
       "      <td>CASH_OUT</td>\n",
       "      <td>77616.32</td>\n",
       "      <td>C1125584113</td>\n",
       "      <td>402794.6</td>\n",
       "      <td>325178.28</td>\n",
       "      <td>C596605403</td>\n",
       "      <td>662541.78</td>\n",
       "      <td>410073.66</td>\n",
       "      <td>0</td>\n",
       "    </tr>\n",
       "    <tr>\n",
       "      <th>499996</th>\n",
       "      <td>20</td>\n",
       "      <td>CASH_OUT</td>\n",
       "      <td>63262.20</td>\n",
       "      <td>C1632642338</td>\n",
       "      <td>8500.0</td>\n",
       "      <td>0.00</td>\n",
       "      <td>C1989325178</td>\n",
       "      <td>0.00</td>\n",
       "      <td>63262.20</td>\n",
       "      <td>0</td>\n",
       "    </tr>\n",
       "    <tr>\n",
       "      <th>499997</th>\n",
       "      <td>20</td>\n",
       "      <td>PAYMENT</td>\n",
       "      <td>15019.29</td>\n",
       "      <td>C2105678886</td>\n",
       "      <td>5253.0</td>\n",
       "      <td>0.00</td>\n",
       "      <td>M171574465</td>\n",
       "      <td>0.00</td>\n",
       "      <td>0.00</td>\n",
       "      <td>0</td>\n",
       "    </tr>\n",
       "    <tr>\n",
       "      <th>499998</th>\n",
       "      <td>20</td>\n",
       "      <td>TRANSFER</td>\n",
       "      <td>355628.70</td>\n",
       "      <td>C1907483123</td>\n",
       "      <td>0.0</td>\n",
       "      <td>0.00</td>\n",
       "      <td>C1880058411</td>\n",
       "      <td>6533824.07</td>\n",
       "      <td>6889452.78</td>\n",
       "      <td>0</td>\n",
       "    </tr>\n",
       "    <tr>\n",
       "      <th>499999</th>\n",
       "      <td>20</td>\n",
       "      <td>TRANSFER</td>\n",
       "      <td>70926.24</td>\n",
       "      <td>C296264658</td>\n",
       "      <td>0.0</td>\n",
       "      <td>0.00</td>\n",
       "      <td>C1038100083</td>\n",
       "      <td>111518.78</td>\n",
       "      <td>182445.01</td>\n",
       "      <td>0</td>\n",
       "    </tr>\n",
       "  </tbody>\n",
       "</table>\n",
       "<p>500000 rows × 10 columns</p>\n",
       "</div>"
      ],
      "text/plain": [
       "        step      type     amount     nameOrig  oldbalanceOrg  newbalanceOrig  \\\n",
       "0          1   PAYMENT    9839.64  C1231006815       170136.0       160296.36   \n",
       "1          1   PAYMENT    1864.28  C1666544295        21249.0        19384.72   \n",
       "2          1  TRANSFER     181.00  C1305486145          181.0            0.00   \n",
       "3          1  CASH_OUT     181.00   C840083671          181.0            0.00   \n",
       "4          1   PAYMENT   11668.14  C2048537720        41554.0        29885.86   \n",
       "...      ...       ...        ...          ...            ...             ...   \n",
       "499995    20  CASH_OUT   77616.32  C1125584113       402794.6       325178.28   \n",
       "499996    20  CASH_OUT   63262.20  C1632642338         8500.0            0.00   \n",
       "499997    20   PAYMENT   15019.29  C2105678886         5253.0            0.00   \n",
       "499998    20  TRANSFER  355628.70  C1907483123            0.0            0.00   \n",
       "499999    20  TRANSFER   70926.24   C296264658            0.0            0.00   \n",
       "\n",
       "           nameDest  oldbalanceDest  newbalanceDest  isFraud  \n",
       "0       M1979787155            0.00            0.00        0  \n",
       "1       M2044282225            0.00            0.00        0  \n",
       "2        C553264065            0.00            0.00        1  \n",
       "3         C38997010        21182.00            0.00        1  \n",
       "4       M1230701703            0.00            0.00        0  \n",
       "...             ...             ...             ...      ...  \n",
       "499995   C596605403       662541.78       410073.66        0  \n",
       "499996  C1989325178            0.00        63262.20        0  \n",
       "499997   M171574465            0.00            0.00        0  \n",
       "499998  C1880058411      6533824.07      6889452.78        0  \n",
       "499999  C1038100083       111518.78       182445.01        0  \n",
       "\n",
       "[500000 rows x 10 columns]"
      ]
     },
     "execution_count": 32,
     "metadata": {},
     "output_type": "execute_result"
    }
   ],
   "source": [
    "df=pd.read_csv(r'C:\\data science\\own_project\\Online Fraud Detection (ML)\\static\\csv_files\\fraud_detection.csv')\n",
    "df"
   ]
  },
  {
   "cell_type": "code",
   "execution_count": 33,
   "id": "29709bf8",
   "metadata": {
    "scrolled": true
   },
   "outputs": [
    {
     "data": {
      "text/plain": [
       "Index(['step', 'type', 'amount', 'nameOrig', 'oldbalanceOrg', 'newbalanceOrig',\n",
       "       'nameDest', 'oldbalanceDest', 'newbalanceDest', 'isFraud'],\n",
       "      dtype='object')"
      ]
     },
     "execution_count": 33,
     "metadata": {},
     "output_type": "execute_result"
    }
   ],
   "source": [
    "df.columns"
   ]
  },
  {
   "cell_type": "code",
   "execution_count": 34,
   "id": "69aaaa72",
   "metadata": {},
   "outputs": [],
   "source": [
    "df.rename(columns={'type': 'types'}, inplace=True)"
   ]
  },
  {
   "cell_type": "code",
   "execution_count": 35,
   "id": "bbad2eb1",
   "metadata": {
    "scrolled": true
   },
   "outputs": [
    {
     "data": {
      "text/plain": [
       "[RangeIndex(start=0, stop=500000, step=1),\n",
       " Index(['step', 'types', 'amount', 'nameOrig', 'oldbalanceOrg',\n",
       "        'newbalanceOrig', 'nameDest', 'oldbalanceDest', 'newbalanceDest',\n",
       "        'isFraud'],\n",
       "       dtype='object')]"
      ]
     },
     "execution_count": 35,
     "metadata": {},
     "output_type": "execute_result"
    }
   ],
   "source": [
    "df.axes"
   ]
  },
  {
   "cell_type": "code",
   "execution_count": 36,
   "id": "2ae7a6c6",
   "metadata": {
    "scrolled": false
   },
   "outputs": [
    {
     "name": "stdout",
     "output_type": "stream",
     "text": [
      "<class 'pandas.core.frame.DataFrame'>\n",
      "RangeIndex: 500000 entries, 0 to 499999\n",
      "Data columns (total 10 columns):\n",
      " #   Column          Non-Null Count   Dtype  \n",
      "---  ------          --------------   -----  \n",
      " 0   step            500000 non-null  int64  \n",
      " 1   types           500000 non-null  object \n",
      " 2   amount          500000 non-null  float64\n",
      " 3   nameOrig        500000 non-null  object \n",
      " 4   oldbalanceOrg   500000 non-null  float64\n",
      " 5   newbalanceOrig  500000 non-null  float64\n",
      " 6   nameDest        500000 non-null  object \n",
      " 7   oldbalanceDest  500000 non-null  float64\n",
      " 8   newbalanceDest  500000 non-null  float64\n",
      " 9   isFraud         500000 non-null  int64  \n",
      "dtypes: float64(5), int64(2), object(3)\n",
      "memory usage: 38.1+ MB\n"
     ]
    }
   ],
   "source": [
    "df.info()"
   ]
  },
  {
   "cell_type": "code",
   "execution_count": 37,
   "id": "3db8f123",
   "metadata": {},
   "outputs": [
    {
     "data": {
      "text/plain": [
       "(500000, 10)"
      ]
     },
     "execution_count": 37,
     "metadata": {},
     "output_type": "execute_result"
    }
   ],
   "source": [
    "df.shape"
   ]
  },
  {
   "cell_type": "code",
   "execution_count": 38,
   "id": "3928f2e7",
   "metadata": {},
   "outputs": [
    {
     "data": {
      "text/html": [
       "<div>\n",
       "<style scoped>\n",
       "    .dataframe tbody tr th:only-of-type {\n",
       "        vertical-align: middle;\n",
       "    }\n",
       "\n",
       "    .dataframe tbody tr th {\n",
       "        vertical-align: top;\n",
       "    }\n",
       "\n",
       "    .dataframe thead th {\n",
       "        text-align: right;\n",
       "    }\n",
       "</style>\n",
       "<table border=\"1\" class=\"dataframe\">\n",
       "  <thead>\n",
       "    <tr style=\"text-align: right;\">\n",
       "      <th></th>\n",
       "      <th>step</th>\n",
       "      <th>amount</th>\n",
       "      <th>oldbalanceOrg</th>\n",
       "      <th>newbalanceOrig</th>\n",
       "      <th>oldbalanceDest</th>\n",
       "      <th>newbalanceDest</th>\n",
       "      <th>isFraud</th>\n",
       "    </tr>\n",
       "  </thead>\n",
       "  <tbody>\n",
       "    <tr>\n",
       "      <th>count</th>\n",
       "      <td>500000</td>\n",
       "      <td>500000</td>\n",
       "      <td>500000</td>\n",
       "      <td>500000</td>\n",
       "      <td>500000</td>\n",
       "      <td>500000</td>\n",
       "      <td>500000</td>\n",
       "    </tr>\n",
       "    <tr>\n",
       "      <th>mean</th>\n",
       "      <td>13</td>\n",
       "      <td>166393</td>\n",
       "      <td>911692</td>\n",
       "      <td>931426</td>\n",
       "      <td>982773</td>\n",
       "      <td>1162668</td>\n",
       "      <td>0</td>\n",
       "    </tr>\n",
       "    <tr>\n",
       "      <th>std</th>\n",
       "      <td>3</td>\n",
       "      <td>272584</td>\n",
       "      <td>3016900</td>\n",
       "      <td>3054014</td>\n",
       "      <td>2336426</td>\n",
       "      <td>2510610</td>\n",
       "      <td>0</td>\n",
       "    </tr>\n",
       "    <tr>\n",
       "      <th>min</th>\n",
       "      <td>1</td>\n",
       "      <td>0</td>\n",
       "      <td>0</td>\n",
       "      <td>0</td>\n",
       "      <td>0</td>\n",
       "      <td>0</td>\n",
       "      <td>0</td>\n",
       "    </tr>\n",
       "    <tr>\n",
       "      <th>25%</th>\n",
       "      <td>11</td>\n",
       "      <td>13350</td>\n",
       "      <td>0</td>\n",
       "      <td>0</td>\n",
       "      <td>0</td>\n",
       "      <td>0</td>\n",
       "      <td>0</td>\n",
       "    </tr>\n",
       "    <tr>\n",
       "      <th>50%</th>\n",
       "      <td>14</td>\n",
       "      <td>81375</td>\n",
       "      <td>18569</td>\n",
       "      <td>0</td>\n",
       "      <td>119271</td>\n",
       "      <td>222144</td>\n",
       "      <td>0</td>\n",
       "    </tr>\n",
       "    <tr>\n",
       "      <th>75%</th>\n",
       "      <td>17</td>\n",
       "      <td>222644</td>\n",
       "      <td>170294</td>\n",
       "      <td>210171</td>\n",
       "      <td>896226</td>\n",
       "      <td>1201403</td>\n",
       "      <td>0</td>\n",
       "    </tr>\n",
       "    <tr>\n",
       "      <th>max</th>\n",
       "      <td>20</td>\n",
       "      <td>10000000</td>\n",
       "      <td>38939424</td>\n",
       "      <td>38946233</td>\n",
       "      <td>41482697</td>\n",
       "      <td>41482697</td>\n",
       "      <td>1</td>\n",
       "    </tr>\n",
       "  </tbody>\n",
       "</table>\n",
       "</div>"
      ],
      "text/plain": [
       "         step    amount  oldbalanceOrg  newbalanceOrig  oldbalanceDest  \\\n",
       "count  500000    500000         500000          500000          500000   \n",
       "mean       13    166393         911692          931426          982773   \n",
       "std         3    272584        3016900         3054014         2336426   \n",
       "min         1         0              0               0               0   \n",
       "25%        11     13350              0               0               0   \n",
       "50%        14     81375          18569               0          119271   \n",
       "75%        17    222644         170294          210171          896226   \n",
       "max        20  10000000       38939424        38946233        41482697   \n",
       "\n",
       "       newbalanceDest  isFraud  \n",
       "count          500000   500000  \n",
       "mean          1162668        0  \n",
       "std           2510610        0  \n",
       "min                 0        0  \n",
       "25%                 0        0  \n",
       "50%            222144        0  \n",
       "75%           1201403        0  \n",
       "max          41482697        1  "
      ]
     },
     "execution_count": 38,
     "metadata": {},
     "output_type": "execute_result"
    }
   ],
   "source": [
    "df.describe().astype(int)"
   ]
  },
  {
   "cell_type": "code",
   "execution_count": 39,
   "id": "b7c71b52",
   "metadata": {
    "scrolled": false
   },
   "outputs": [
    {
     "data": {
      "text/plain": [
       "step              0\n",
       "types             0\n",
       "amount            0\n",
       "nameOrig          0\n",
       "oldbalanceOrg     0\n",
       "newbalanceOrig    0\n",
       "nameDest          0\n",
       "oldbalanceDest    0\n",
       "newbalanceDest    0\n",
       "isFraud           0\n",
       "dtype: int64"
      ]
     },
     "execution_count": 39,
     "metadata": {},
     "output_type": "execute_result"
    }
   ],
   "source": [
    "df.isnull().sum()"
   ]
  },
  {
   "cell_type": "code",
   "execution_count": 40,
   "id": "3a9e0105",
   "metadata": {},
   "outputs": [
    {
     "data": {
      "text/plain": [
       "Text(0, 0.5, 'count of online transaction type ')"
      ]
     },
     "execution_count": 40,
     "metadata": {},
     "output_type": "execute_result"
    },
    {
     "data": {
      "image/png": "[encoded data removed]",
      "text/plain": [
       "<Figure size 1000x500 with 1 Axes>"
      ]
     },
     "metadata": {},
     "output_type": "display_data"
    }
   ],
   "source": [
    "plt.figure(figsize=(10,5))\n",
    "sns.countplot (x=\"types\", data= df)\n",
    "plt.title (\"Visualizing type of online transaction\")\n",
    "plt.xlabel(\"Type of online transaction\")\n",
    "plt.ylabel(\"count of online transaction type \")"
   ]
  },
  {
   "cell_type": "markdown",
   "id": "a26d87c8",
   "metadata": {},
   "source": [
    "## EDA"
   ]
  },
  {
   "cell_type": "code",
   "execution_count": 41,
   "id": "46cd9e62",
   "metadata": {
    "scrolled": true
   },
   "outputs": [
    {
     "data": {
      "text/plain": [
       "types\n",
       "CASH_OUT    182316\n",
       "PAYMENT     164032\n",
       "CASH_IN     109319\n",
       "TRANSFER     40730\n",
       "DEBIT         3603\n",
       "Name: count, dtype: int64"
      ]
     },
     "execution_count": 41,
     "metadata": {},
     "output_type": "execute_result"
    }
   ],
   "source": [
    "df['types'].value_counts()"
   ]
  },
  {
   "cell_type": "code",
   "execution_count": 42,
   "id": "b4012161",
   "metadata": {
    "scrolled": true
   },
   "outputs": [
    {
     "data": {
      "text/html": [
       "<div>\n",
       "<style scoped>\n",
       "    .dataframe tbody tr th:only-of-type {\n",
       "        vertical-align: middle;\n",
       "    }\n",
       "\n",
       "    .dataframe tbody tr th {\n",
       "        vertical-align: top;\n",
       "    }\n",
       "\n",
       "    .dataframe thead th {\n",
       "        text-align: right;\n",
       "    }\n",
       "</style>\n",
       "<table border=\"1\" class=\"dataframe\">\n",
       "  <thead>\n",
       "    <tr style=\"text-align: right;\">\n",
       "      <th></th>\n",
       "      <th>step</th>\n",
       "      <th>amount</th>\n",
       "      <th>nameOrig</th>\n",
       "      <th>oldbalanceOrg</th>\n",
       "      <th>newbalanceOrig</th>\n",
       "      <th>nameDest</th>\n",
       "      <th>oldbalanceDest</th>\n",
       "      <th>newbalanceDest</th>\n",
       "      <th>isFraud</th>\n",
       "      <th>types_CASH_IN</th>\n",
       "      <th>types_CASH_OUT</th>\n",
       "      <th>types_DEBIT</th>\n",
       "      <th>types_PAYMENT</th>\n",
       "      <th>types_TRANSFER</th>\n",
       "    </tr>\n",
       "  </thead>\n",
       "  <tbody>\n",
       "    <tr>\n",
       "      <th>0</th>\n",
       "      <td>1</td>\n",
       "      <td>9839.64</td>\n",
       "      <td>C1231006815</td>\n",
       "      <td>170136.0</td>\n",
       "      <td>160296.36</td>\n",
       "      <td>M1979787155</td>\n",
       "      <td>0.00</td>\n",
       "      <td>0.00</td>\n",
       "      <td>0</td>\n",
       "      <td>False</td>\n",
       "      <td>False</td>\n",
       "      <td>False</td>\n",
       "      <td>True</td>\n",
       "      <td>False</td>\n",
       "    </tr>\n",
       "    <tr>\n",
       "      <th>1</th>\n",
       "      <td>1</td>\n",
       "      <td>1864.28</td>\n",
       "      <td>C1666544295</td>\n",
       "      <td>21249.0</td>\n",
       "      <td>19384.72</td>\n",
       "      <td>M2044282225</td>\n",
       "      <td>0.00</td>\n",
       "      <td>0.00</td>\n",
       "      <td>0</td>\n",
       "      <td>False</td>\n",
       "      <td>False</td>\n",
       "      <td>False</td>\n",
       "      <td>True</td>\n",
       "      <td>False</td>\n",
       "    </tr>\n",
       "    <tr>\n",
       "      <th>2</th>\n",
       "      <td>1</td>\n",
       "      <td>181.00</td>\n",
       "      <td>C1305486145</td>\n",
       "      <td>181.0</td>\n",
       "      <td>0.00</td>\n",
       "      <td>C553264065</td>\n",
       "      <td>0.00</td>\n",
       "      <td>0.00</td>\n",
       "      <td>1</td>\n",
       "      <td>False</td>\n",
       "      <td>False</td>\n",
       "      <td>False</td>\n",
       "      <td>False</td>\n",
       "      <td>True</td>\n",
       "    </tr>\n",
       "    <tr>\n",
       "      <th>3</th>\n",
       "      <td>1</td>\n",
       "      <td>181.00</td>\n",
       "      <td>C840083671</td>\n",
       "      <td>181.0</td>\n",
       "      <td>0.00</td>\n",
       "      <td>C38997010</td>\n",
       "      <td>21182.00</td>\n",
       "      <td>0.00</td>\n",
       "      <td>1</td>\n",
       "      <td>False</td>\n",
       "      <td>True</td>\n",
       "      <td>False</td>\n",
       "      <td>False</td>\n",
       "      <td>False</td>\n",
       "    </tr>\n",
       "    <tr>\n",
       "      <th>4</th>\n",
       "      <td>1</td>\n",
       "      <td>11668.14</td>\n",
       "      <td>C2048537720</td>\n",
       "      <td>41554.0</td>\n",
       "      <td>29885.86</td>\n",
       "      <td>M1230701703</td>\n",
       "      <td>0.00</td>\n",
       "      <td>0.00</td>\n",
       "      <td>0</td>\n",
       "      <td>False</td>\n",
       "      <td>False</td>\n",
       "      <td>False</td>\n",
       "      <td>True</td>\n",
       "      <td>False</td>\n",
       "    </tr>\n",
       "    <tr>\n",
       "      <th>...</th>\n",
       "      <td>...</td>\n",
       "      <td>...</td>\n",
       "      <td>...</td>\n",
       "      <td>...</td>\n",
       "      <td>...</td>\n",
       "      <td>...</td>\n",
       "      <td>...</td>\n",
       "      <td>...</td>\n",
       "      <td>...</td>\n",
       "      <td>...</td>\n",
       "      <td>...</td>\n",
       "      <td>...</td>\n",
       "      <td>...</td>\n",
       "      <td>...</td>\n",
       "    </tr>\n",
       "    <tr>\n",
       "      <th>499995</th>\n",
       "      <td>20</td>\n",
       "      <td>77616.32</td>\n",
       "      <td>C1125584113</td>\n",
       "      <td>402794.6</td>\n",
       "      <td>325178.28</td>\n",
       "      <td>C596605403</td>\n",
       "      <td>662541.78</td>\n",
       "      <td>410073.66</td>\n",
       "      <td>0</td>\n",
       "      <td>False</td>\n",
       "      <td>True</td>\n",
       "      <td>False</td>\n",
       "      <td>False</td>\n",
       "      <td>False</td>\n",
       "    </tr>\n",
       "    <tr>\n",
       "      <th>499996</th>\n",
       "      <td>20</td>\n",
       "      <td>63262.20</td>\n",
       "      <td>C1632642338</td>\n",
       "      <td>8500.0</td>\n",
       "      <td>0.00</td>\n",
       "      <td>C1989325178</td>\n",
       "      <td>0.00</td>\n",
       "      <td>63262.20</td>\n",
       "      <td>0</td>\n",
       "      <td>False</td>\n",
       "      <td>True</td>\n",
       "      <td>False</td>\n",
       "      <td>False</td>\n",
       "      <td>False</td>\n",
       "    </tr>\n",
       "    <tr>\n",
       "      <th>499997</th>\n",
       "      <td>20</td>\n",
       "      <td>15019.29</td>\n",
       "      <td>C2105678886</td>\n",
       "      <td>5253.0</td>\n",
       "      <td>0.00</td>\n",
       "      <td>M171574465</td>\n",
       "      <td>0.00</td>\n",
       "      <td>0.00</td>\n",
       "      <td>0</td>\n",
       "      <td>False</td>\n",
       "      <td>False</td>\n",
       "      <td>False</td>\n",
       "      <td>True</td>\n",
       "      <td>False</td>\n",
       "    </tr>\n",
       "    <tr>\n",
       "      <th>499998</th>\n",
       "      <td>20</td>\n",
       "      <td>355628.70</td>\n",
       "      <td>C1907483123</td>\n",
       "      <td>0.0</td>\n",
       "      <td>0.00</td>\n",
       "      <td>C1880058411</td>\n",
       "      <td>6533824.07</td>\n",
       "      <td>6889452.78</td>\n",
       "      <td>0</td>\n",
       "      <td>False</td>\n",
       "      <td>False</td>\n",
       "      <td>False</td>\n",
       "      <td>False</td>\n",
       "      <td>True</td>\n",
       "    </tr>\n",
       "    <tr>\n",
       "      <th>499999</th>\n",
       "      <td>20</td>\n",
       "      <td>70926.24</td>\n",
       "      <td>C296264658</td>\n",
       "      <td>0.0</td>\n",
       "      <td>0.00</td>\n",
       "      <td>C1038100083</td>\n",
       "      <td>111518.78</td>\n",
       "      <td>182445.01</td>\n",
       "      <td>0</td>\n",
       "      <td>False</td>\n",
       "      <td>False</td>\n",
       "      <td>False</td>\n",
       "      <td>False</td>\n",
       "      <td>True</td>\n",
       "    </tr>\n",
       "  </tbody>\n",
       "</table>\n",
       "<p>500000 rows × 14 columns</p>\n",
       "</div>"
      ],
      "text/plain": [
       "        step     amount     nameOrig  oldbalanceOrg  newbalanceOrig  \\\n",
       "0          1    9839.64  C1231006815       170136.0       160296.36   \n",
       "1          1    1864.28  C1666544295        21249.0        19384.72   \n",
       "2          1     181.00  C1305486145          181.0            0.00   \n",
       "3          1     181.00   C840083671          181.0            0.00   \n",
       "4          1   11668.14  C2048537720        41554.0        29885.86   \n",
       "...      ...        ...          ...            ...             ...   \n",
       "499995    20   77616.32  C1125584113       402794.6       325178.28   \n",
       "499996    20   63262.20  C1632642338         8500.0            0.00   \n",
       "499997    20   15019.29  C2105678886         5253.0            0.00   \n",
       "499998    20  355628.70  C1907483123            0.0            0.00   \n",
       "499999    20   70926.24   C296264658            0.0            0.00   \n",
       "\n",
       "           nameDest  oldbalanceDest  newbalanceDest  isFraud  types_CASH_IN  \\\n",
       "0       M1979787155            0.00            0.00        0          False   \n",
       "1       M2044282225            0.00            0.00        0          False   \n",
       "2        C553264065            0.00            0.00        1          False   \n",
       "3         C38997010        21182.00            0.00        1          False   \n",
       "4       M1230701703            0.00            0.00        0          False   \n",
       "...             ...             ...             ...      ...            ...   \n",
       "499995   C596605403       662541.78       410073.66        0          False   \n",
       "499996  C1989325178            0.00        63262.20        0          False   \n",
       "499997   M171574465            0.00            0.00        0          False   \n",
       "499998  C1880058411      6533824.07      6889452.78        0          False   \n",
       "499999  C1038100083       111518.78       182445.01        0          False   \n",
       "\n",
       "        types_CASH_OUT  types_DEBIT  types_PAYMENT  types_TRANSFER  \n",
       "0                False        False           True           False  \n",
       "1                False        False           True           False  \n",
       "2                False        False          False            True  \n",
       "3                 True        False          False           False  \n",
       "4                False        False           True           False  \n",
       "...                ...          ...            ...             ...  \n",
       "499995            True        False          False           False  \n",
       "499996            True        False          False           False  \n",
       "499997           False        False           True           False  \n",
       "499998           False        False          False            True  \n",
       "499999           False        False          False            True  \n",
       "\n",
       "[500000 rows x 14 columns]"
      ]
     },
     "execution_count": 42,
     "metadata": {},
     "output_type": "execute_result"
    }
   ],
   "source": [
    "df=pd.get_dummies(df,columns=['types'])\n",
    "df"
   ]
  },
  {
   "cell_type": "code",
   "execution_count": 43,
   "id": "d0327eba",
   "metadata": {
    "scrolled": true
   },
   "outputs": [
    {
     "name": "stdout",
     "output_type": "stream",
     "text": [
      "<class 'pandas.core.frame.DataFrame'>\n",
      "RangeIndex: 500000 entries, 0 to 499999\n",
      "Data columns (total 14 columns):\n",
      " #   Column          Non-Null Count   Dtype  \n",
      "---  ------          --------------   -----  \n",
      " 0   step            500000 non-null  int64  \n",
      " 1   amount          500000 non-null  float64\n",
      " 2   nameOrig        500000 non-null  object \n",
      " 3   oldbalanceOrg   500000 non-null  float64\n",
      " 4   newbalanceOrig  500000 non-null  float64\n",
      " 5   nameDest        500000 non-null  object \n",
      " 6   oldbalanceDest  500000 non-null  float64\n",
      " 7   newbalanceDest  500000 non-null  float64\n",
      " 8   isFraud         500000 non-null  int64  \n",
      " 9   types_CASH_IN   500000 non-null  bool   \n",
      " 10  types_CASH_OUT  500000 non-null  bool   \n",
      " 11  types_DEBIT     500000 non-null  bool   \n",
      " 12  types_PAYMENT   500000 non-null  bool   \n",
      " 13  types_TRANSFER  500000 non-null  bool   \n",
      "dtypes: bool(5), float64(5), int64(2), object(2)\n",
      "memory usage: 36.7+ MB\n"
     ]
    }
   ],
   "source": [
    "df.info()"
   ]
  },
  {
   "cell_type": "code",
   "execution_count": 44,
   "id": "e9577804",
   "metadata": {
    "scrolled": true
   },
   "outputs": [
    {
     "data": {
      "text/plain": [
       "isFraud\n",
       "0    499767\n",
       "1       233\n",
       "Name: count, dtype: int64"
      ]
     },
     "execution_count": 44,
     "metadata": {},
     "output_type": "execute_result"
    }
   ],
   "source": [
    "df['isFraud'].value_counts()"
   ]
  },
  {
   "cell_type": "code",
   "execution_count": 45,
   "id": "209f6045",
   "metadata": {},
   "outputs": [
    {
     "data": {
      "text/plain": [
       "<Axes: xlabel='isFraud', ylabel='count'>"
      ]
     },
     "execution_count": 45,
     "metadata": {},
     "output_type": "execute_result"
    },
    {
     "data": {
      "image/png": "[encoded data removed]",
      "text/plain": [
       "<Figure size 640x480 with 1 Axes>"
      ]
     },
     "metadata": {},
     "output_type": "display_data"
    }
   ],
   "source": [
    "sns.countplot(x=df['isFraud'])"
   ]
  },
  {
   "cell_type": "code",
   "execution_count": 46,
   "id": "89dbab09",
   "metadata": {},
   "outputs": [],
   "source": [
    "x = df.drop(['isFraud', 'nameOrig', 'nameDest'], axis = 1)\n",
    "y = df['isFraud']"
   ]
  },
  {
   "cell_type": "code",
   "execution_count": 47,
   "id": "b409fd6b",
   "metadata": {},
   "outputs": [],
   "source": [
    "x_train, x_test, y_train, y_test = train_test_split(x,y,test_size=0.3, random_state=2)"
   ]
  },
  {
   "cell_type": "code",
   "execution_count": 48,
   "id": "1d245970",
   "metadata": {},
   "outputs": [
    {
     "data": {
      "text/html": [
       "<style>#sk-container-id-2 {color: black;}#sk-container-id-2 pre{padding: 0;}#sk-container-id-2 div.sk-toggleable {background-color: white;}#sk-container-id-2 label.sk-toggleable__label {cursor: pointer;display: block;width: 100%;margin-bottom: 0;padding: 0.3em;box-sizing: border-box;text-align: center;}#sk-container-id-2 label.sk-toggleable__label-arrow:before {content: \"▸\";float: left;margin-right: 0.25em;color: #696969;}#sk-container-id-2 label.sk-toggleable__label-arrow:hover:before {color: black;}#sk-container-id-2 div.sk-estimator:hover label.sk-toggleable__label-arrow:before {color: black;}#sk-container-id-2 div.sk-toggleable__content {max-height: 0;max-width: 0;overflow: hidden;text-align: left;background-color: #f0f8ff;}#sk-container-id-2 div.sk-toggleable__content pre {margin: 0.2em;color: black;border-radius: 0.25em;background-color: #f0f8ff;}#sk-container-id-2 input.sk-toggleable__control:checked~div.sk-toggleable__content {max-height: 200px;max-width: 100%;overflow: auto;}#sk-container-id-2 input.sk-toggleable__control:checked~label.sk-toggleable__label-arrow:before {content: \"▾\";}#sk-container-id-2 div.sk-estimator input.sk-toggleable__control:checked~label.sk-toggleable__label {background-color: #d4ebff;}#sk-container-id-2 div.sk-label input.sk-toggleable__control:checked~label.sk-toggleable__label {background-color: #d4ebff;}#sk-container-id-2 input.sk-hidden--visually {border: 0;clip: rect(1px 1px 1px 1px);clip: rect(1px, 1px, 1px, 1px);height: 1px;margin: -1px;overflow: hidden;padding: 0;position: absolute;width: 1px;}#sk-container-id-2 div.sk-estimator {font-family: monospace;background-color: #f0f8ff;border: 1px dotted black;border-radius: 0.25em;box-sizing: border-box;margin-bottom: 0.5em;}#sk-container-id-2 div.sk-estimator:hover {background-color: #d4ebff;}#sk-container-id-2 div.sk-parallel-item::after {content: \"\";width: 100%;border-bottom: 1px solid gray;flex-grow: 1;}#sk-container-id-2 div.sk-label:hover label.sk-toggleable__label {background-color: #d4ebff;}#sk-container-id-2 div.sk-serial::before {content: \"\";position: absolute;border-left: 1px solid gray;box-sizing: border-box;top: 0;bottom: 0;left: 50%;z-index: 0;}#sk-container-id-2 div.sk-serial {display: flex;flex-direction: column;align-items: center;background-color: white;padding-right: 0.2em;padding-left: 0.2em;position: relative;}#sk-container-id-2 div.sk-item {position: relative;z-index: 1;}#sk-container-id-2 div.sk-parallel {display: flex;align-items: stretch;justify-content: center;background-color: white;position: relative;}#sk-container-id-2 div.sk-item::before, #sk-container-id-2 div.sk-parallel-item::before {content: \"\";position: absolute;border-left: 1px solid gray;box-sizing: border-box;top: 0;bottom: 0;left: 50%;z-index: -1;}#sk-container-id-2 div.sk-parallel-item {display: flex;flex-direction: column;z-index: 1;position: relative;background-color: white;}#sk-container-id-2 div.sk-parallel-item:first-child::after {align-self: flex-end;width: 50%;}#sk-container-id-2 div.sk-parallel-item:last-child::after {align-self: flex-start;width: 50%;}#sk-container-id-2 div.sk-parallel-item:only-child::after {width: 0;}#sk-container-id-2 div.sk-dashed-wrapped {border: 1px dashed gray;margin: 0 0.4em 0.5em 0.4em;box-sizing: border-box;padding-bottom: 0.4em;background-color: white;}#sk-container-id-2 div.sk-label label {font-family: monospace;font-weight: bold;display: inline-block;line-height: 1.2em;}#sk-container-id-2 div.sk-label-container {text-align: center;}#sk-container-id-2 div.sk-container {/* jupyter's `normalize.less` sets `[hidden] { display: none; }` but bootstrap.min.css set `[hidden] { display: none !important; }` so we also need the `!important` here to be able to override the default hidden behavior on the sphinx rendered scikit-learn.org. See: https://github.com/scikit-learn/scikit-learn/issues/21755 */display: inline-block !important;position: relative;}#sk-container-id-2 div.sk-text-repr-fallback {display: none;}</style><div id=\"sk-container-id-2\" class=\"sk-top-container\"><div class=\"sk-text-repr-fallback\"><pre>LogisticRegression()</pre><b>In a Jupyter environment, please rerun this cell to show the HTML representation or trust the notebook. <br />On GitHub, the HTML representation is unable to render, please try loading this page with nbviewer.org.</b></div><div class=\"sk-container\" hidden><div class=\"sk-item\"><div class=\"sk-estimator sk-toggleable\"><input class=\"sk-toggleable__control sk-hidden--visually\" id=\"sk-estimator-id-2\" type=\"checkbox\" checked><label for=\"sk-estimator-id-2\" class=\"sk-toggleable__label sk-toggleable__label-arrow\">LogisticRegression</label><div class=\"sk-toggleable__content\"><pre>LogisticRegression()</pre></div></div></div></div></div>"
      ],
      "text/plain": [
       "LogisticRegression()"
      ]
     },
     "execution_count": 48,
     "metadata": {},
     "output_type": "execute_result"
    }
   ],
   "source": [
    "logistic_clf = LogisticRegression()\n",
    "logistic_clf.fit(x_train, y_train)"
   ]
  },
  {
   "cell_type": "code",
   "execution_count": 49,
   "id": "fd8ad9b7",
   "metadata": {
    "scrolled": true
   },
   "outputs": [
    {
     "data": {
      "text/plain": [
       "0.9996085714285714"
      ]
     },
     "execution_count": 49,
     "metadata": {},
     "output_type": "execute_result"
    }
   ],
   "source": [
    "logistic_clf.score(x_train,y_train)"
   ]
  },
  {
   "cell_type": "code",
   "execution_count": 50,
   "id": "dda44e22",
   "metadata": {
    "scrolled": true
   },
   "outputs": [
    {
     "data": {
      "text/plain": [
       "0.9996066666666666"
      ]
     },
     "execution_count": 50,
     "metadata": {},
     "output_type": "execute_result"
    }
   ],
   "source": [
    "logistic_clf.score(x_test,y_test)"
   ]
  },
  {
   "cell_type": "code",
   "execution_count": 51,
   "id": "d5f2017e",
   "metadata": {
    "scrolled": true
   },
   "outputs": [
    {
     "data": {
      "text/plain": [
       "array([[149924,      4],\n",
       "       [    55,     17]], dtype=int64)"
      ]
     },
     "execution_count": 51,
     "metadata": {},
     "output_type": "execute_result"
    }
   ],
   "source": [
    "y_pred = logistic_clf.predict(x_test)\n",
    "confusion_matrix(y_test, y_pred)"
   ]
  },
  {
   "cell_type": "code",
   "execution_count": 52,
   "id": "8cd13aed",
   "metadata": {
    "scrolled": false
   },
   "outputs": [
    {
     "name": "stdout",
     "output_type": "stream",
     "text": [
      "Classification Report :\n",
      "               precision    recall  f1-score   support\n",
      "\n",
      "           0       1.00      1.00      1.00    149928\n",
      "           1       0.81      0.24      0.37        72\n",
      "\n",
      "    accuracy                           1.00    150000\n",
      "   macro avg       0.90      0.62      0.68    150000\n",
      "weighted avg       1.00      1.00      1.00    150000\n",
      "\n"
     ]
    }
   ],
   "source": [
    "clf_report = classification_report(y_test, y_pred)\n",
    "print(\"Classification Report :\\n\",clf_report)"
   ]
  },
  {
   "cell_type": "code",
   "execution_count": 53,
   "id": "2ef1b9ef",
   "metadata": {
    "scrolled": true
   },
   "outputs": [
    {
     "name": "stdout",
     "output_type": "stream",
     "text": [
      "Confusion Matrix :\n",
      " [[149924      4]\n",
      " [    55     17]]\n",
      "**************************************************\n",
      "Classification Report :\n",
      "               precision    recall  f1-score   support\n",
      "\n",
      "           0       1.00      1.00      1.00    149928\n",
      "           1       0.81      0.24      0.37        72\n",
      "\n",
      "    accuracy                           1.00    150000\n",
      "   macro avg       0.90      0.62      0.68    150000\n",
      "weighted avg       1.00      1.00      1.00    150000\n",
      "\n",
      "**************************************************\n",
      "Accuracy :\n",
      " 0.9996066666666666\n",
      "**************************************************\n"
     ]
    }
   ],
   "source": [
    "# Evaluation on Testning Data\n",
    "\n",
    "y_pred = logistic_clf.predict(x_test)\n",
    "\n",
    "cnf_matrix = confusion_matrix(y_test, y_pred)\n",
    "print(\"Confusion Matrix :\\n\",cnf_matrix)\n",
    "print(\"*\"*50)\n",
    "\n",
    "clf_report = classification_report(y_test, y_pred)\n",
    "print(\"Classification Report :\\n\",clf_report)\n",
    "print(\"*\"*50)\n",
    "\n",
    "accuracy = accuracy_score(y_test, y_pred)\n",
    "print(\"Accuracy :\\n\",accuracy)\n",
    "print(\"*\"*50)"
   ]
  },
  {
   "cell_type": "code",
   "execution_count": 54,
   "id": "e4e5b185",
   "metadata": {
    "scrolled": true
   },
   "outputs": [
    {
     "name": "stdout",
     "output_type": "stream",
     "text": [
      "Confusion Matrix :\n",
      " [[349826     13]\n",
      " [   124     37]]\n",
      "**************************************************\n",
      "Classification Report :\n",
      "               precision    recall  f1-score   support\n",
      "\n",
      "           0       1.00      1.00      1.00    349839\n",
      "           1       0.74      0.23      0.35       161\n",
      "\n",
      "    accuracy                           1.00    350000\n",
      "   macro avg       0.87      0.61      0.68    350000\n",
      "weighted avg       1.00      1.00      1.00    350000\n",
      "\n",
      "**************************************************\n",
      "Accuracy :\n",
      " 0.9996085714285714\n",
      "**************************************************\n"
     ]
    }
   ],
   "source": [
    "# Evaluation on Training Data\n",
    "\n",
    "y_pred_train = logistic_clf.predict(x_train)\n",
    "\n",
    "cnf_matrix = confusion_matrix(y_train, y_pred_train)\n",
    "print(\"Confusion Matrix :\\n\",cnf_matrix)\n",
    "print(\"*\"*50)\n",
    "\n",
    "clf_report = classification_report(y_train, y_pred_train)\n",
    "print(\"Classification Report :\\n\",clf_report)\n",
    "print(\"*\"*50)\n",
    "\n",
    "accuracy = accuracy_score(y_train, y_pred_train)\n",
    "print(\"Accuracy :\\n\",accuracy)\n",
    "print(\"*\"*50)"
   ]
  },
  {
   "cell_type": "markdown",
   "id": "576318c7",
   "metadata": {},
   "source": [
    "### ROC Curve"
   ]
  },
  {
   "cell_type": "code",
   "execution_count": 55,
   "id": "83d62e25",
   "metadata": {
    "scrolled": true
   },
   "outputs": [
    {
     "data": {
      "text/plain": [
       "array([[9.98004067e-01, 1.99593257e-03],\n",
       "       [9.99986614e-01, 1.33858124e-05],\n",
       "       [9.99999984e-01, 1.59141177e-08],\n",
       "       ...,\n",
       "       [9.99955919e-01, 4.40811615e-05],\n",
       "       [9.99999716e-01, 2.84382959e-07],\n",
       "       [9.99999838e-01, 1.62025112e-07]])"
      ]
     },
     "execution_count": 55,
     "metadata": {},
     "output_type": "execute_result"
    }
   ],
   "source": [
    "y_pred_train_prob = logistic_clf.predict_proba(x_train)\n",
    "y_pred_train_prob"
   ]
  },
  {
   "cell_type": "code",
   "execution_count": 56,
   "id": "7bc9d87b",
   "metadata": {},
   "outputs": [
    {
     "name": "stdout",
     "output_type": "stream",
     "text": [
      "0.999980 0.000020\n"
     ]
    }
   ],
   "source": [
    "prob1 = 9.99979577e-01\n",
    "prob2 = 2.04229624e-05\n",
    "print(f'{prob1:.6f}', f'{prob2:.6f}')"
   ]
  },
  {
   "cell_type": "code",
   "execution_count": 57,
   "id": "652dfa59",
   "metadata": {
    "scrolled": true
   },
   "outputs": [
    {
     "data": {
      "text/plain": [
       "array([0.00000000e+00, 0.00000000e+00, 0.00000000e+00, 2.85845775e-06,\n",
       "       2.85845775e-06, 8.57537324e-06, 8.57537324e-06, 1.14338310e-05,\n",
       "       1.14338310e-05, 2.00092042e-05, 2.00092042e-05, 2.85845775e-05,\n",
       "       2.85845775e-05, 3.71599507e-05, 3.71599507e-05, 6.28860704e-05,\n",
       "       6.28860704e-05, 1.02904479e-04, 1.02904479e-04, 1.17196768e-04,\n",
       "       1.17196768e-04, 1.51498261e-04, 1.51498261e-04, 1.68649007e-04,\n",
       "       1.68649007e-04, 3.34439556e-04, 3.34439556e-04, 1.37777663e-03,\n",
       "       1.37777663e-03, 1.58072713e-03, 1.58072713e-03, 1.59787788e-03,\n",
       "       1.59787788e-03, 1.65790549e-03, 1.65790549e-03, 1.70649928e-03,\n",
       "       1.70649928e-03, 1.78939455e-03, 1.78939455e-03, 2.76412864e-03,\n",
       "       2.76412864e-03, 2.77556247e-03, 2.77556247e-03, 2.89847616e-03,\n",
       "       2.89847616e-03, 2.90419307e-03, 2.90419307e-03, 3.36440477e-03,\n",
       "       3.36440477e-03, 3.52733686e-03, 3.52733686e-03, 3.64167517e-03,\n",
       "       3.64167517e-03, 3.75887194e-03, 3.75887194e-03, 3.91894557e-03,\n",
       "       3.91894557e-03, 3.93609632e-03, 3.93609632e-03, 4.09045304e-03,\n",
       "       4.09045304e-03, 4.19049906e-03, 4.19049906e-03, 4.31912966e-03,\n",
       "       4.31912966e-03, 4.39630802e-03, 4.39630802e-03, 4.59640006e-03,\n",
       "       4.59640006e-03, 4.91940578e-03, 4.91940578e-03, 4.92226424e-03,\n",
       "       4.92226424e-03, 4.94227345e-03, 4.94227345e-03, 5.01087643e-03,\n",
       "       5.01087643e-03, 5.47680504e-03, 5.47680504e-03, 5.77980157e-03,\n",
       "       5.77980157e-03, 5.83982918e-03, 5.83982918e-03, 5.85983838e-03,\n",
       "       5.85983838e-03, 5.86269684e-03, 5.86269684e-03, 5.86841376e-03,\n",
       "       5.86841376e-03, 5.97417669e-03, 5.97417669e-03, 5.97703515e-03,\n",
       "       5.97703515e-03, 5.98846898e-03, 5.98846898e-03, 6.00276127e-03,\n",
       "       6.00276127e-03, 6.05993043e-03, 6.05993043e-03, 6.06564734e-03,\n",
       "       6.06564734e-03, 6.07136426e-03, 6.07136426e-03, 6.12281650e-03,\n",
       "       6.12281650e-03, 6.32862545e-03, 6.32862545e-03, 6.86029859e-03,\n",
       "       6.86029859e-03, 7.86933418e-03, 7.86933418e-03, 7.89791876e-03,\n",
       "       7.89791876e-03, 8.00939861e-03, 8.00939861e-03, 8.02654936e-03,\n",
       "       8.02654936e-03, 8.03512473e-03, 8.03512473e-03, 8.15232150e-03,\n",
       "       8.15232150e-03, 8.45531802e-03, 8.45531802e-03, 8.45817648e-03,\n",
       "       8.45817648e-03, 1.21941808e-02, 1.21941808e-02, 1.27830230e-02,\n",
       "       1.27830230e-02, 1.29631059e-02, 1.29631059e-02, 1.40721875e-02,\n",
       "       1.40721875e-02, 1.45238238e-02, 1.45238238e-02, 1.45924268e-02,\n",
       "       1.45924268e-02, 2.39710267e-02, 2.39710267e-02, 2.81472334e-02,\n",
       "       2.81472334e-02, 2.87961034e-02, 2.87961034e-02, 3.23205818e-02,\n",
       "       3.23262987e-02, 3.26035691e-02, 3.26092860e-02, 3.50932858e-02,\n",
       "       3.50932858e-02, 3.87292440e-02, 3.87349609e-02, 4.35628961e-02,\n",
       "       4.35628961e-02, 4.97285894e-02, 4.97285894e-02, 5.55712771e-02,\n",
       "       5.55769940e-02, 6.43867608e-02, 6.43867608e-02, 6.44467884e-02,\n",
       "       6.44467884e-02, 7.33108659e-02, 7.33108659e-02, 7.70926055e-02,\n",
       "       7.70926055e-02, 8.02140413e-02, 8.02197582e-02, 8.17147316e-02,\n",
       "       8.17204485e-02, 9.91284562e-02, 9.91284562e-02, 1.02069809e-01,\n",
       "       1.02069809e-01, 1.04073588e-01, 1.04073588e-01, 1.04856806e-01,\n",
       "       1.04856806e-01, 1.07037809e-01, 1.07037809e-01, 1.09204520e-01,\n",
       "       1.09204520e-01, 1.10276441e-01, 1.10282158e-01, 1.10499401e-01,\n",
       "       1.10499401e-01, 1.10656616e-01, 1.10662333e-01, 1.15424524e-01,\n",
       "       1.15424524e-01, 1.18405895e-01, 1.18405895e-01, 1.27532951e-01,\n",
       "       1.27532951e-01, 1.30940233e-01, 1.30940233e-01, 1.33770106e-01,\n",
       "       1.33770106e-01, 1.35327965e-01, 1.35327965e-01, 1.40327408e-01,\n",
       "       1.40327408e-01, 1.40827638e-01, 1.40827638e-01, 1.42588448e-01,\n",
       "       1.42594165e-01, 1.42779964e-01, 1.42785681e-01, 1.46327311e-01,\n",
       "       1.46327311e-01, 1.49191485e-01, 1.49197202e-01, 1.51844134e-01,\n",
       "       1.51844134e-01, 1.59399038e-01, 1.59404755e-01, 1.65544722e-01,\n",
       "       1.65544722e-01, 1.67336975e-01, 1.67336975e-01, 1.70341214e-01,\n",
       "       1.70341214e-01, 1.71730425e-01, 1.71730425e-01, 1.73491235e-01,\n",
       "       1.73496951e-01, 1.80454438e-01, 1.80454438e-01, 1.88555307e-01,\n",
       "       1.88555307e-01, 1.88884030e-01, 1.88884030e-01, 1.95724319e-01,\n",
       "       1.95724319e-01, 2.00097759e-01, 2.00097759e-01, 2.09030440e-01,\n",
       "       2.09030440e-01, 2.12643530e-01, 2.12643530e-01, 2.20307056e-01,\n",
       "       2.20307056e-01, 2.20455695e-01, 2.20455695e-01, 2.27933421e-01,\n",
       "       2.27939138e-01, 2.29571317e-01, 2.29577034e-01, 2.38821286e-01,\n",
       "       2.38821286e-01, 2.46916439e-01, 2.46916439e-01, 2.55551840e-01,\n",
       "       2.55557556e-01, 2.90499344e-01, 2.90499344e-01, 3.00266694e-01,\n",
       "       3.00266694e-01, 3.03914086e-01, 3.03914086e-01, 3.04986008e-01,\n",
       "       3.04991725e-01, 3.09319430e-01, 3.09325147e-01, 3.11649073e-01,\n",
       "       3.11654790e-01, 3.22205357e-01, 3.22205357e-01, 3.32958875e-01,\n",
       "       3.32958875e-01, 3.33198986e-01, 3.33198986e-01, 3.40085011e-01,\n",
       "       3.40085011e-01, 3.57235757e-01, 3.57241474e-01, 3.62043683e-01,\n",
       "       3.62049400e-01, 3.63398592e-01, 3.63398592e-01, 3.64864981e-01,\n",
       "       3.64870698e-01, 3.91079897e-01, 3.91079897e-01, 4.03185465e-01,\n",
       "       4.03191182e-01, 4.04054436e-01, 4.04060153e-01, 4.07979099e-01,\n",
       "       4.07984816e-01, 4.08690855e-01, 4.08696572e-01, 4.09162500e-01,\n",
       "       4.09168217e-01, 4.12152447e-01, 4.12158164e-01, 4.32333159e-01,\n",
       "       4.32338876e-01, 4.46425356e-01, 4.46425356e-01, 4.59348443e-01,\n",
       "       4.59348443e-01, 4.85546208e-01, 4.85546208e-01, 5.68355729e-01,\n",
       "       5.68355729e-01, 6.14894280e-01, 6.14894280e-01, 6.46228694e-01,\n",
       "       6.46228694e-01, 6.95817219e-01, 6.95817219e-01, 6.98884344e-01,\n",
       "       6.98884344e-01, 8.47149689e-01, 8.47149689e-01, 9.92487973e-01,\n",
       "       1.00000000e+00])"
      ]
     },
     "execution_count": 57,
     "metadata": {},
     "output_type": "execute_result"
    }
   ],
   "source": [
    "fpr, tpr, thresh = roc_curve(y_train, y_pred_train_prob[:,1])\n",
    "fpr"
   ]
  },
  {
   "cell_type": "code",
   "execution_count": 58,
   "id": "ba094b55",
   "metadata": {
    "scrolled": true
   },
   "outputs": [
    {
     "data": {
      "image/png": "[encoded data removed]",
      "text/plain": [
       "<Figure size 700x500 with 1 Axes>"
      ]
     },
     "metadata": {},
     "output_type": "display_data"
    }
   ],
   "source": [
    "plt.figure(figsize=(7,5))\n",
    "plt.title(\"ROC Curve\")\n",
    "plt.plot(fpr, tpr)\n",
    "plt.xlabel(\"False Positive Rate (FPR)\")\n",
    "plt.ylabel(\"True Positive Rate (TPR)\")\n",
    "plt.savefig(\"ROC_Curve.png\")"
   ]
  },
  {
   "cell_type": "markdown",
   "id": "6e54da90",
   "metadata": {},
   "source": [
    "## Prediction on Single Row"
   ]
  },
  {
   "cell_type": "code",
   "execution_count": 59,
   "id": "151f34e3",
   "metadata": {
    "scrolled": true
   },
   "outputs": [
    {
     "data": {
      "text/plain": [
       "11"
      ]
     },
     "execution_count": 59,
     "metadata": {},
     "output_type": "execute_result"
    }
   ],
   "source": [
    "logistic_clf.n_features_in_"
   ]
  },
  {
   "cell_type": "code",
   "execution_count": 60,
   "id": "7060ebb0",
   "metadata": {},
   "outputs": [
    {
     "data": {
      "text/plain": [
       "array([[-6.70761352e-01, -1.61105412e-05,  2.50942709e-05,\n",
       "        -6.15281961e-05,  5.59098974e-07, -1.08811130e-06,\n",
       "        -2.81708338e-05, -2.99580448e-03, -7.96103363e-04,\n",
       "        -4.59424372e-02,  1.20197688e-04]])"
      ]
     },
     "execution_count": 60,
     "metadata": {},
     "output_type": "execute_result"
    }
   ],
   "source": [
    "logistic_clf.coef_"
   ]
  },
  {
   "cell_type": "code",
   "execution_count": 61,
   "id": "78fe1d9c",
   "metadata": {
    "scrolled": true
   },
   "outputs": [
    {
     "data": {
      "text/plain": [
       "['step',\n",
       " 'amount',\n",
       " 'oldbalanceOrg',\n",
       " 'newbalanceOrig',\n",
       " 'oldbalanceDest',\n",
       " 'newbalanceDest',\n",
       " 'types_CASH_IN',\n",
       " 'types_CASH_OUT',\n",
       " 'types_DEBIT',\n",
       " 'types_PAYMENT',\n",
       " 'types_TRANSFER']"
      ]
     },
     "execution_count": 61,
     "metadata": {},
     "output_type": "execute_result"
    }
   ],
   "source": [
    "column_names = x.columns.tolist()\n",
    "column_names"
   ]
  },
  {
   "cell_type": "code",
   "execution_count": 62,
   "id": "20301a5d",
   "metadata": {
    "scrolled": true
   },
   "outputs": [],
   "source": [
    "step = 19\n",
    "amount = 10000000\n",
    "oldbalanceOrg = 10000000\n",
    "newbalanceOrig = 0\n",
    "oldbalanceDest = 504326.62\n",
    "newbalanceDest = 10342417.90\n",
    "types = 'CASH_OUT'\n",
    "\n",
    "types ='types_'+types\n",
    "\n",
    "types_index = column_names.index(types)\n",
    "types_index\n",
    "\n",
    "test_array = np.zeros([1,logistic_clf.n_features_in_])\n",
    "test_array[0,0] = step\n",
    "test_array[0,1] = amount\n",
    "test_array[0,2] = oldbalanceOrg\n",
    "test_array[0,3] = newbalanceOrig\n",
    "test_array[0,4] = oldbalanceDest\n",
    "test_array[0,5] = newbalanceDest\n",
    "test_array[0,types_index] = 1\n",
    "\n",
    "def get_pred_fraud(test_array):\n",
    "    pred_class = logistic_clf.predict(test_array)[0]\n",
    "\n",
    "    if pred_class == 1:\n",
    "        pred_fraud = \"Fraud\"\n",
    "    else:\n",
    "        pred_fraud = \"Not Fraud\"\n",
    "        \n",
    "    return pred_fraud\n",
    "\n",
    "result = get_pred_fraud(test_array)"
   ]
  },
  {
   "cell_type": "code",
   "execution_count": 63,
   "id": "b63dc7fc",
   "metadata": {
    "scrolled": true
   },
   "outputs": [
    {
     "data": {
      "text/html": [
       "<div>\n",
       "<style scoped>\n",
       "    .dataframe tbody tr th:only-of-type {\n",
       "        vertical-align: middle;\n",
       "    }\n",
       "\n",
       "    .dataframe tbody tr th {\n",
       "        vertical-align: top;\n",
       "    }\n",
       "\n",
       "    .dataframe thead th {\n",
       "        text-align: right;\n",
       "    }\n",
       "</style>\n",
       "<table border=\"1\" class=\"dataframe\">\n",
       "  <thead>\n",
       "    <tr style=\"text-align: right;\">\n",
       "      <th></th>\n",
       "      <th>step</th>\n",
       "      <th>amount</th>\n",
       "      <th>nameOrig</th>\n",
       "      <th>oldbalanceOrg</th>\n",
       "      <th>newbalanceOrig</th>\n",
       "      <th>nameDest</th>\n",
       "      <th>oldbalanceDest</th>\n",
       "      <th>newbalanceDest</th>\n",
       "      <th>isFraud</th>\n",
       "      <th>types_CASH_IN</th>\n",
       "      <th>types_CASH_OUT</th>\n",
       "      <th>types_DEBIT</th>\n",
       "      <th>types_PAYMENT</th>\n",
       "      <th>types_TRANSFER</th>\n",
       "    </tr>\n",
       "  </thead>\n",
       "  <tbody>\n",
       "    <tr>\n",
       "      <th>2</th>\n",
       "      <td>1</td>\n",
       "      <td>181.00</td>\n",
       "      <td>C1305486145</td>\n",
       "      <td>181.00</td>\n",
       "      <td>0.0</td>\n",
       "      <td>C553264065</td>\n",
       "      <td>0.00</td>\n",
       "      <td>0.00</td>\n",
       "      <td>1</td>\n",
       "      <td>False</td>\n",
       "      <td>False</td>\n",
       "      <td>False</td>\n",
       "      <td>False</td>\n",
       "      <td>True</td>\n",
       "    </tr>\n",
       "    <tr>\n",
       "      <th>3</th>\n",
       "      <td>1</td>\n",
       "      <td>181.00</td>\n",
       "      <td>C840083671</td>\n",
       "      <td>181.00</td>\n",
       "      <td>0.0</td>\n",
       "      <td>C38997010</td>\n",
       "      <td>21182.00</td>\n",
       "      <td>0.00</td>\n",
       "      <td>1</td>\n",
       "      <td>False</td>\n",
       "      <td>True</td>\n",
       "      <td>False</td>\n",
       "      <td>False</td>\n",
       "      <td>False</td>\n",
       "    </tr>\n",
       "    <tr>\n",
       "      <th>251</th>\n",
       "      <td>1</td>\n",
       "      <td>2806.00</td>\n",
       "      <td>C1420196421</td>\n",
       "      <td>2806.00</td>\n",
       "      <td>0.0</td>\n",
       "      <td>C972765878</td>\n",
       "      <td>0.00</td>\n",
       "      <td>0.00</td>\n",
       "      <td>1</td>\n",
       "      <td>False</td>\n",
       "      <td>False</td>\n",
       "      <td>False</td>\n",
       "      <td>False</td>\n",
       "      <td>True</td>\n",
       "    </tr>\n",
       "    <tr>\n",
       "      <th>252</th>\n",
       "      <td>1</td>\n",
       "      <td>2806.00</td>\n",
       "      <td>C2101527076</td>\n",
       "      <td>2806.00</td>\n",
       "      <td>0.0</td>\n",
       "      <td>C1007251739</td>\n",
       "      <td>26202.00</td>\n",
       "      <td>0.00</td>\n",
       "      <td>1</td>\n",
       "      <td>False</td>\n",
       "      <td>True</td>\n",
       "      <td>False</td>\n",
       "      <td>False</td>\n",
       "      <td>False</td>\n",
       "    </tr>\n",
       "    <tr>\n",
       "      <th>680</th>\n",
       "      <td>1</td>\n",
       "      <td>20128.00</td>\n",
       "      <td>C137533655</td>\n",
       "      <td>20128.00</td>\n",
       "      <td>0.0</td>\n",
       "      <td>C1848415041</td>\n",
       "      <td>0.00</td>\n",
       "      <td>0.00</td>\n",
       "      <td>1</td>\n",
       "      <td>False</td>\n",
       "      <td>False</td>\n",
       "      <td>False</td>\n",
       "      <td>False</td>\n",
       "      <td>True</td>\n",
       "    </tr>\n",
       "    <tr>\n",
       "      <th>...</th>\n",
       "      <td>...</td>\n",
       "      <td>...</td>\n",
       "      <td>...</td>\n",
       "      <td>...</td>\n",
       "      <td>...</td>\n",
       "      <td>...</td>\n",
       "      <td>...</td>\n",
       "      <td>...</td>\n",
       "      <td>...</td>\n",
       "      <td>...</td>\n",
       "      <td>...</td>\n",
       "      <td>...</td>\n",
       "      <td>...</td>\n",
       "      <td>...</td>\n",
       "    </tr>\n",
       "    <tr>\n",
       "      <th>481251</th>\n",
       "      <td>19</td>\n",
       "      <td>10000000.00</td>\n",
       "      <td>C2050703310</td>\n",
       "      <td>10000000.00</td>\n",
       "      <td>0.0</td>\n",
       "      <td>C1622860679</td>\n",
       "      <td>504326.62</td>\n",
       "      <td>10342417.90</td>\n",
       "      <td>1</td>\n",
       "      <td>False</td>\n",
       "      <td>True</td>\n",
       "      <td>False</td>\n",
       "      <td>False</td>\n",
       "      <td>False</td>\n",
       "    </tr>\n",
       "    <tr>\n",
       "      <th>481252</th>\n",
       "      <td>19</td>\n",
       "      <td>1861008.32</td>\n",
       "      <td>C1990303942</td>\n",
       "      <td>1861008.32</td>\n",
       "      <td>0.0</td>\n",
       "      <td>C1308678191</td>\n",
       "      <td>0.00</td>\n",
       "      <td>0.00</td>\n",
       "      <td>1</td>\n",
       "      <td>False</td>\n",
       "      <td>False</td>\n",
       "      <td>False</td>\n",
       "      <td>False</td>\n",
       "      <td>True</td>\n",
       "    </tr>\n",
       "    <tr>\n",
       "      <th>481253</th>\n",
       "      <td>19</td>\n",
       "      <td>1861008.32</td>\n",
       "      <td>C1718961034</td>\n",
       "      <td>1861008.32</td>\n",
       "      <td>0.0</td>\n",
       "      <td>C714051433</td>\n",
       "      <td>0.00</td>\n",
       "      <td>1789942.62</td>\n",
       "      <td>1</td>\n",
       "      <td>False</td>\n",
       "      <td>True</td>\n",
       "      <td>False</td>\n",
       "      <td>False</td>\n",
       "      <td>False</td>\n",
       "    </tr>\n",
       "    <tr>\n",
       "      <th>499609</th>\n",
       "      <td>20</td>\n",
       "      <td>16614.82</td>\n",
       "      <td>C2080146129</td>\n",
       "      <td>16614.82</td>\n",
       "      <td>0.0</td>\n",
       "      <td>C748889213</td>\n",
       "      <td>0.00</td>\n",
       "      <td>0.00</td>\n",
       "      <td>1</td>\n",
       "      <td>False</td>\n",
       "      <td>False</td>\n",
       "      <td>False</td>\n",
       "      <td>False</td>\n",
       "      <td>True</td>\n",
       "    </tr>\n",
       "    <tr>\n",
       "      <th>499610</th>\n",
       "      <td>20</td>\n",
       "      <td>16614.82</td>\n",
       "      <td>C530844914</td>\n",
       "      <td>16614.82</td>\n",
       "      <td>0.0</td>\n",
       "      <td>C1614121155</td>\n",
       "      <td>904409.29</td>\n",
       "      <td>921024.11</td>\n",
       "      <td>1</td>\n",
       "      <td>False</td>\n",
       "      <td>True</td>\n",
       "      <td>False</td>\n",
       "      <td>False</td>\n",
       "      <td>False</td>\n",
       "    </tr>\n",
       "  </tbody>\n",
       "</table>\n",
       "<p>233 rows × 14 columns</p>\n",
       "</div>"
      ],
      "text/plain": [
       "        step       amount     nameOrig  oldbalanceOrg  newbalanceOrig  \\\n",
       "2          1       181.00  C1305486145         181.00             0.0   \n",
       "3          1       181.00   C840083671         181.00             0.0   \n",
       "251        1      2806.00  C1420196421        2806.00             0.0   \n",
       "252        1      2806.00  C2101527076        2806.00             0.0   \n",
       "680        1     20128.00   C137533655       20128.00             0.0   \n",
       "...      ...          ...          ...            ...             ...   \n",
       "481251    19  10000000.00  C2050703310    10000000.00             0.0   \n",
       "481252    19   1861008.32  C1990303942     1861008.32             0.0   \n",
       "481253    19   1861008.32  C1718961034     1861008.32             0.0   \n",
       "499609    20     16614.82  C2080146129       16614.82             0.0   \n",
       "499610    20     16614.82   C530844914       16614.82             0.0   \n",
       "\n",
       "           nameDest  oldbalanceDest  newbalanceDest  isFraud  types_CASH_IN  \\\n",
       "2        C553264065            0.00            0.00        1          False   \n",
       "3         C38997010        21182.00            0.00        1          False   \n",
       "251      C972765878            0.00            0.00        1          False   \n",
       "252     C1007251739        26202.00            0.00        1          False   \n",
       "680     C1848415041            0.00            0.00        1          False   \n",
       "...             ...             ...             ...      ...            ...   \n",
       "481251  C1622860679       504326.62     10342417.90        1          False   \n",
       "481252  C1308678191            0.00            0.00        1          False   \n",
       "481253   C714051433            0.00      1789942.62        1          False   \n",
       "499609   C748889213            0.00            0.00        1          False   \n",
       "499610  C1614121155       904409.29       921024.11        1          False   \n",
       "\n",
       "        types_CASH_OUT  types_DEBIT  types_PAYMENT  types_TRANSFER  \n",
       "2                False        False          False            True  \n",
       "3                 True        False          False           False  \n",
       "251              False        False          False            True  \n",
       "252               True        False          False           False  \n",
       "680              False        False          False            True  \n",
       "...                ...          ...            ...             ...  \n",
       "481251            True        False          False           False  \n",
       "481252           False        False          False            True  \n",
       "481253            True        False          False           False  \n",
       "499609           False        False          False            True  \n",
       "499610            True        False          False           False  \n",
       "\n",
       "[233 rows x 14 columns]"
      ]
     },
     "execution_count": 63,
     "metadata": {},
     "output_type": "execute_result"
    }
   ],
   "source": [
    "grouped_data = df.groupby('isFraud')\n",
    "fraud_group = grouped_data.get_group(1)\n",
    "fraud_group"
   ]
  },
  {
   "cell_type": "code",
   "execution_count": 64,
   "id": "bb338f63",
   "metadata": {},
   "outputs": [],
   "source": [
    "with open('logistic_classification.pkl','wb') as f:\n",
    "    pickle.dump(logistic_clf, f)"
   ]
  },
  {
   "cell_type": "code",
   "execution_count": 65,
   "id": "09ba2c9e",
   "metadata": {},
   "outputs": [],
   "source": [
    "project_data = {\"column_names\" : column_names}\n",
    "\n",
    "with open('proj_data.json','w') as f:\n",
    "    json.dump(project_data, f)"
   ]
  }
 ],
 "metadata": {
  "kernelspec": {
   "display_name": "Python 3 (ipykernel)",
   "language": "python",
   "name": "python3"
  },
  "language_info": {
   "codemirror_mode": {
    "name": "ipython",
    "version": 3
   },
   "file_extension": ".py",
   "mimetype": "text/x-python",
   "name": "python",
   "nbconvert_exporter": "python",
   "pygments_lexer": "ipython3",
   "version": "3.10.7"
  }
 },
 "nbformat": 4,
 "nbformat_minor": 5
}
